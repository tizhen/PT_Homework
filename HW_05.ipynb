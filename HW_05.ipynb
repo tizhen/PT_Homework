{
  "cells": [
    {
      "cell_type": "markdown",
      "id": "21a555e9",
      "metadata": {
        "id": "21a555e9"
      },
      "source": [
        "## Семинар 5\n",
        "\n",
        "### 1. Когда используется критерий Стьюдента, а когда Z –критерий?"
      ]
    },
    {
      "cell_type": "code",
      "execution_count": 6,
      "id": "9a3d7f26",
      "metadata": {
        "id": "9a3d7f26"
      },
      "outputs": [],
      "source": [
        "import numpy as np\n",
        "from scipy import stats"
      ]
    },
    {
      "cell_type": "markdown",
      "id": "a8c79a6a",
      "metadata": {
        "id": "a8c79a6a"
      },
      "source": [
        "Z –критерий используется, когда известна Сигма генеральной совокупности, если она не изветсна то испольуют критерий Стьюдента t.  \n",
        "\n",
        "Наиболее часто t-критерии применяются для проверки равенства средних значений в двух выборках  \n",
        "Нулевая гипотеза предполагает, что средние равны (отрицание этого предположения называют гипотезой сдвига).  \n",
        "\n",
        "Z –критерий обычно применяется для проверки равенства средних значений при  \n",
        "известной дисперсии генеральной совокупности или при оценке выборочного среднего стандартизованных значений"
      ]
    },
    {
      "cell_type": "markdown",
      "id": "01afbec7",
      "metadata": {
        "id": "01afbec7"
      },
      "source": [
        "### 2. Проведите тест гипотезы.  \n",
        "Утверждается, что шарики для подшипников, изготовленные автоматическим станком, имеют средний диаметр 17 мм.  \n",
        "Используя односторонний критерий с α=0,05, проверить эту гипотезу, если в выборке из n=100 шариков средний диаметр оказался равным 17.5 мм, а дисперсия известна и равна 4 кв. мм.  "
      ]
    },
    {
      "cell_type": "markdown",
      "source": [
        "Сформулируем нулевую гипотезу:  \n",
        "$H0: \\mu=\\mu_0=17$, где $\\mu$ и $\\mu_0$ средние выборки и генеральной совокупности и выборки, соответственно.  \n",
        "Альтернативная гипотеза:  \n",
        "$H1: \\mu>\\mu_0$  \n",
        "Поскольку нам известны и среднее и дисперсия генеральной совокупности, то для проверки гипотезы будем использовать $z$-критерий.  \n",
        "$z_н=\\frac{\\bar X-\\mu_0}{\\sigma/\\sqrt n}$, где  \n",
        "$\\bar X=\\mu=17.5$ среднее по выборке,  \n",
        "$\\sigma=\\sqrt 4=2$ среднее квадратическое отклонение генеральной совокупности,  \n",
        "$n=100$ размер выборки.  "
      ],
      "metadata": {
        "id": "TK6wu0ZJSvji"
      },
      "id": "TK6wu0ZJSvji"
    },
    {
      "cell_type": "code",
      "execution_count": 1,
      "id": "853c9af1",
      "metadata": {
        "colab": {
          "base_uri": "https://localhost:8080/",
          "height": 0
        },
        "id": "853c9af1",
        "outputId": "40893674-d09f-48aa-c09b-202b08b66c35"
      },
      "outputs": [
        {
          "output_type": "stream",
          "name": "stdout",
          "text": [
            "Наблюдаемое значение z-критерия:  2.5000\n"
          ]
        }
      ],
      "source": [
        "z=(17.5-17)/0.2\n",
        "print(f'Наблюдаемое значение z-критерия: {z: .4f}')"
      ]
    },
    {
      "cell_type": "markdown",
      "source": [
        "Найдем табличное значение $z$-критерия, для $\\alpha=0.05$"
      ],
      "metadata": {
        "id": "bZwFoICLTIXF"
      },
      "id": "bZwFoICLTIXF"
    },
    {
      "cell_type": "code",
      "execution_count": 8,
      "id": "cbc99dd9",
      "metadata": {
        "colab": {
          "base_uri": "https://localhost:8080/",
          "height": 0
        },
        "id": "cbc99dd9",
        "outputId": "e61d4301-c902-45b0-c50a-effa54f5156c"
      },
      "outputs": [
        {
          "output_type": "stream",
          "name": "stdout",
          "text": [
            "Табличное значение z-критерия:  1.6449\n"
          ]
        }
      ],
      "source": [
        "zt=stats.norm.ppf(0.95)\n",
        "print(f'Табличное значение z-критерия: {zt: .4f}')"
      ]
    },
    {
      "cell_type": "markdown",
      "source": [
        "Сравним полученные значения:"
      ],
      "metadata": {
        "id": "ahdTAzxLUCx5"
      },
      "id": "ahdTAzxLUCx5"
    },
    {
      "cell_type": "code",
      "source": [
        "z<zt"
      ],
      "metadata": {
        "colab": {
          "base_uri": "https://localhost:8080/",
          "height": 0
        },
        "id": "KA7bQMyxUL2I",
        "outputId": "b41740c3-2b9f-4eb2-8a96-88b7e35ef89d"
      },
      "id": "KA7bQMyxUL2I",
      "execution_count": 9,
      "outputs": [
        {
          "output_type": "execute_result",
          "data": {
            "text/plain": [
              "False"
            ]
          },
          "metadata": {},
          "execution_count": 9
        }
      ]
    },
    {
      "cell_type": "markdown",
      "source": [
        "Поскольку $z_н>z_t$, **отвергаем** нулевую гипотезу на уровне значимости $\\alpha=0.05$"
      ],
      "metadata": {
        "id": "l5r8EapXUQK-"
      },
      "id": "l5r8EapXUQK-"
    },
    {
      "cell_type": "markdown",
      "id": "7fe2ad85",
      "metadata": {
        "id": "7fe2ad85"
      },
      "source": [
        "Ответ:  \n",
        "**Отвергаем** нулевую гипотезу $H0: \\mu_0=17$ на уровне значимости $\\alpha=0.05$  "
      ]
    },
    {
      "cell_type": "markdown",
      "id": "a1ca5624",
      "metadata": {
        "id": "a1ca5624"
      },
      "source": [
        "### 3. Проведите тест гипотезы.  \n",
        "Продавец утверждает, что средний вес пачки печенья составляет 200 г.  \n",
        "Из партии извлечена выборка из 10 пачек. Вес каждой пачки составляет:  \n",
        "\n",
        "202, 203, 199, 197, 195, 201, 200, 204, 194, 190.\n",
        "\n",
        "Известно, что их веса распределены нормально.  \n",
        "Верно ли утверждение продавца, если учитывать, что доверительная вероятность равна 99%? (Провести двусторонний тест.)"
      ]
    },
    {
      "cell_type": "markdown",
      "source": [
        "Из условия задачи следует что нужно проводить проверку следующих гипотез:  \n",
        "$H0: \\mu=\\mu_0=200$, где $\\mu$ и $\\mu_0$ средние выборки и генеральной совокупности и выборки, соответственно.  \n",
        "Альтернативная гипотеза:  \n",
        "$H1: \\mu\\neq\\mu_0$  \n",
        "при этом будем использовать **двусторонний** критерий c уровнем значимости $\\alpha=1-0.99=0.01$  \n",
        "Поскольку нам не известны ни среднее, ни дисперсия генеральной совокупности, то для проверки гипотезы будем использовать $t$-критерий.    "
      ],
      "metadata": {
        "id": "lre97FZ_U2dD"
      },
      "id": "lre97FZ_U2dD"
    },
    {
      "cell_type": "code",
      "execution_count": 11,
      "id": "d24f3e5c",
      "metadata": {
        "id": "d24f3e5c"
      },
      "outputs": [],
      "source": [
        "cookies=np.array([202, 203, 199, 197, 195, 201, 200, 204, 194, 190])"
      ]
    },
    {
      "cell_type": "markdown",
      "source": [
        "Расчитаем наблюдаемое значение t-критерия $t_н$"
      ],
      "metadata": {
        "id": "DaRXe5UmVGlK"
      },
      "id": "DaRXe5UmVGlK"
    },
    {
      "cell_type": "code",
      "execution_count": 12,
      "id": "3c0f18d7",
      "metadata": {
        "colab": {
          "base_uri": "https://localhost:8080/",
          "height": 0
        },
        "id": "3c0f18d7",
        "outputId": "14332e92-6285-4df4-d5b3-3edd20932b21"
      },
      "outputs": [
        {
          "output_type": "stream",
          "name": "stdout",
          "text": [
            "Наблюдаемое значение t-критерия: -1.0651\n"
          ]
        }
      ],
      "source": [
        "tn=(np.mean(cookies)-200)/(np.std(cookies,ddof=1)/len(cookies)**0.5)\n",
        "print(f'Наблюдаемое значение t-критерия: {tn: .4f}')"
      ]
    },
    {
      "cell_type": "markdown",
      "source": [
        "Найдем табличное значение $t$-критерия $t_t$, для $\\alpha/2=0.01/2=0.005$"
      ],
      "metadata": {
        "id": "uSMrWVnFVPEo"
      },
      "id": "uSMrWVnFVPEo"
    },
    {
      "cell_type": "code",
      "execution_count": 14,
      "id": "d43ee013",
      "metadata": {
        "colab": {
          "base_uri": "https://localhost:8080/",
          "height": 0
        },
        "id": "d43ee013",
        "outputId": "205c05c1-fd1f-44b8-df74-5792550d60c7"
      },
      "outputs": [
        {
          "output_type": "stream",
          "name": "stdout",
          "text": [
            "Табличное значение t-критерия:  3.2498\n"
          ]
        }
      ],
      "source": [
        "tt=stats.t.ppf(0.995,len(cookies)-1)\n",
        "print(f'Табличное значение t-критерия: {tt: .4f}')"
      ]
    },
    {
      "cell_type": "code",
      "execution_count": null,
      "id": "d99f0936",
      "metadata": {
        "id": "d99f0936",
        "outputId": "dd59a287-a64d-4240-be5c-a39573724e0c"
      },
      "outputs": [
        {
          "data": {
            "text/plain": [
              "3.2498355440153697"
            ]
          },
          "execution_count": 22,
          "metadata": {},
          "output_type": "execute_result"
        }
      ],
      "source": [
        "stats.t.ppf(1 - 0.01 / 2, df = len(x) - 1)"
      ]
    },
    {
      "cell_type": "markdown",
      "source": [
        "Сравним полученные значения (поскольку у нас двусторонний критерий, то используем абсолютное значение полученного t-критерия):"
      ],
      "metadata": {
        "id": "AgtFF2dcVmLL"
      },
      "id": "AgtFF2dcVmLL"
    },
    {
      "cell_type": "code",
      "source": [
        "np.abs(tn)<tt"
      ],
      "metadata": {
        "colab": {
          "base_uri": "https://localhost:8080/",
          "height": 0
        },
        "id": "WCMUmXsOVtuE",
        "outputId": "95b8148b-c0c3-460a-a273-a9124c6dfe9c"
      },
      "id": "WCMUmXsOVtuE",
      "execution_count": 15,
      "outputs": [
        {
          "output_type": "execute_result",
          "data": {
            "text/plain": [
              "True"
            ]
          },
          "metadata": {},
          "execution_count": 15
        }
      ]
    },
    {
      "cell_type": "markdown",
      "id": "60c48d29",
      "metadata": {
        "id": "60c48d29"
      },
      "source": [
        "Поскольку $|t_н|<t_t$, **принимаем** нулевую гипотезу на уровне значимости $\\alpha=0.01$"
      ]
    },
    {
      "cell_type": "markdown",
      "source": [
        "Ответ:  \n",
        "**Принимаем** нулевую гипотезу $H0: \\mu_0=200$ на уровне значимости $\\alpha=0.01$  "
      ],
      "metadata": {
        "id": "xrkR31JFV1af"
      },
      "id": "xrkR31JFV1af"
    },
    {
      "cell_type": "markdown",
      "id": "70950c2c",
      "metadata": {
        "id": "70950c2c"
      },
      "source": [
        "### 4. Есть ли статистически значимые различия в росте дочерей?  \n",
        "\n",
        "Рост матерей 172, 177, 158, 170, 178,175, 164, 160, 169, 165  \n",
        "Рост взрослых дочерей: 173, 175, 162, 174, 175, 168, 155, 170, 160  "
      ]
    },
    {
      "cell_type": "markdown",
      "id": "46dd35a8",
      "metadata": {
        "id": "46dd35a8"
      },
      "source": [
        "Принимаем $\\alpha=0.05$  \n",
        "Используем двухвыборочную t-проверку"
      ]
    },
    {
      "cell_type": "code",
      "execution_count": null,
      "id": "6435908c",
      "metadata": {
        "id": "6435908c",
        "outputId": "a8053f2c-cc5d-4ee0-b68c-21a09d3eabf2"
      },
      "outputs": [
        {
          "data": {
            "text/plain": [
              "Ttest_relResult(statistic=0.559522990335608, pvalue=0.5911212354055175)"
            ]
          },
          "execution_count": 12,
          "metadata": {},
          "output_type": "execute_result"
        }
      ],
      "source": [
        "x_1 = np.array([172, 177, 158, 170, 178, 175, 164, 160, 169])\n",
        "x_2 = np.array([173, 175, 162, 174, 175, 168, 155, 170, 160])\n",
        "\n",
        "stats.ttest_rel(x_1, x_2)"
      ]
    },
    {
      "cell_type": "markdown",
      "id": "adc9dc4b",
      "metadata": {
        "id": "adc9dc4b"
      },
      "source": [
        "pvalue > $\\alpha$,\n",
        "следовательно, статистически значимых различий не обнаружено на уровне значимости $\\alpha=0.05$"
      ]
    },
    {
      "cell_type": "markdown",
      "source": [
        "Ответ:  \n",
        "Статистически значимых различий не обнаружено на уровне значимости $\\alpha=0.05$"
      ],
      "metadata": {
        "id": "JCEkTop_YpKG"
      },
      "id": "JCEkTop_YpKG"
    }
  ],
  "metadata": {
    "kernelspec": {
      "display_name": "Python 3 (ipykernel)",
      "language": "python",
      "name": "python3"
    },
    "language_info": {
      "codemirror_mode": {
        "name": "ipython",
        "version": 3
      },
      "file_extension": ".py",
      "mimetype": "text/x-python",
      "name": "python",
      "nbconvert_exporter": "python",
      "pygments_lexer": "ipython3",
      "version": "3.9.13"
    },
    "colab": {
      "provenance": []
    }
  },
  "nbformat": 4,
  "nbformat_minor": 5
}