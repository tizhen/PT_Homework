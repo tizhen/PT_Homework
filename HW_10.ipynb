{
  "cells": [
    {
      "cell_type": "markdown",
      "id": "international-bread",
      "metadata": {
        "id": "international-bread"
      },
      "source": [
        "## Семинар 10"
      ]
    },
    {
      "cell_type": "markdown",
      "id": "afraid-catholic",
      "metadata": {
        "id": "afraid-catholic"
      },
      "source": [
        "**1. Провести дисперсионный анализ для определения того, есть ли различия среднего роста среди взрослых футболистов, хоккеистов и штангистов. Даны значения роста в трех группах случайно выбранных спортсменов:  \n",
        "Футболисты: 173, 175, 180, 178, 177, 185, 183, 182.  \n",
        "Хоккеисты: 177, 179, 180, 188, 177, 172, 171, 184, 180.  \n",
        "Штангисты: 172, 173, 169, 177, 166, 180, 178, 177, 172, 166, 170.**"
      ]
    },
    {
      "cell_type": "code",
      "execution_count": 1,
      "id": "spatial-optimization",
      "metadata": {
        "id": "spatial-optimization"
      },
      "outputs": [],
      "source": [
        "import numpy as np\n",
        "import pandas as pd\n",
        "from scipy import stats"
      ]
    },
    {
      "cell_type": "markdown",
      "id": "considerable-museum",
      "metadata": {
        "id": "considerable-museum"
      },
      "source": [
        "Сформулируем нулевую гипотезу:  \n",
        "$H0 : \\mu_1=\\mu_2=\\mu_3$  т.е. средний рост спортсмена не зависит от вида спорта, которым он занимается(из представленных трех).  \n",
        "Альтернативная гипотеза:  \n",
        "$H1: \\mu_1\\neq\\mu_2\\neq\\mu_3$ т.е. средний рост спортсмена зависит от выбранного им спорта."
      ]
    },
    {
      "cell_type": "code",
      "execution_count": 2,
      "id": "mighty-writer",
      "metadata": {
        "id": "mighty-writer"
      },
      "outputs": [],
      "source": [
        "football=np.array([173, 175, 180, 178, 177, 185, 183, 182])\n",
        "hockey=np.array([177, 179, 180, 188, 177, 172, 171, 184, 180])\n",
        "weightlifting=np.array([172, 173, 169, 177, 166, 180, 178, 177, 172, 166, 170])"
      ]
    },
    {
      "cell_type": "markdown",
      "id": "objective-potential",
      "metadata": {
        "id": "objective-potential"
      },
      "source": [
        "Воспользуемся встроенным методом однофакторного дисперсионного анализа библиотеки scipy:"
      ]
    },
    {
      "cell_type": "code",
      "execution_count": 3,
      "id": "referenced-volleyball",
      "metadata": {
        "colab": {
          "base_uri": "https://localhost:8080/"
        },
        "id": "referenced-volleyball",
        "outputId": "a58000c2-2c1e-45cb-d46e-5d4e77345ecd"
      },
      "outputs": [
        {
          "output_type": "execute_result",
          "data": {
            "text/plain": [
              "F_onewayResult(statistic=5.500053450812596, pvalue=0.010482206918698694)"
            ]
          },
          "metadata": {},
          "execution_count": 3
        }
      ],
      "source": [
        "stats.f_oneway(football, hockey, weightlifting)"
      ]
    },
    {
      "cell_type": "markdown",
      "id": "opening-match",
      "metadata": {
        "id": "opening-match"
      },
      "source": [
        "Получили значение $p-value=0.01048$ на уровне статистической значимости $\\alpha=0.05$  отвергаем нулевую гипотезу.  Таким образом, средний рост футболистов, хоккеистов и штангистоа различен. При этом на уровне значимости $\\alpha=0.01$ нулевую гипотезу отвергнуть не можем."
      ]
    },
    {
      "cell_type": "code",
      "execution_count": null,
      "id": "serious-conservative",
      "metadata": {
        "id": "serious-conservative"
      },
      "outputs": [],
      "source": []
    }
  ],
  "metadata": {
    "kernelspec": {
      "display_name": "Python 3",
      "language": "python",
      "name": "python3"
    },
    "language_info": {
      "codemirror_mode": {
        "name": "ipython",
        "version": 3
      },
      "file_extension": ".py",
      "mimetype": "text/x-python",
      "name": "python",
      "nbconvert_exporter": "python",
      "pygments_lexer": "ipython3",
      "version": "3.8.5"
    },
    "colab": {
      "provenance": []
    }
  },
  "nbformat": 4,
  "nbformat_minor": 5
}