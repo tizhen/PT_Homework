{
  "nbformat": 4,
  "nbformat_minor": 0,
  "metadata": {
    "colab": {
      "provenance": []
    },
    "kernelspec": {
      "name": "python3",
      "display_name": "Python 3"
    },
    "language_info": {
      "name": "python"
    }
  },
  "cells": [
    {
      "cell_type": "markdown",
      "source": [
        "# Семинар 4"
      ],
      "metadata": {
        "id": "bZ-Kp9eKX7rD"
      }
    },
    {
      "cell_type": "markdown",
      "source": [
        "1. Случайная непрерывная величина A имеет равномерное распределение на промежутке $(200, 800]$. Найдите ее среднее значение и дисперсию. Найдите ее среднее значение и дисперсию."
      ],
      "metadata": {
        "id": "KcKQaVRHYA97"
      }
    },
    {
      "cell_type": "markdown",
      "source": [
        "Используем формулы для определения мат. ожидания и дисперсии для случайной непрерывной величины $X$, равномерно распределённой на отрезке $[a;b]$:     \"$\\displaystyle\\text {Математическое ожидание: }M(X)=\\frac{a+b}{2}\\\\\\\\\\displaystyle\\text {Дисперсия: }D(X)=\\frac{(b-a)^2}{12}$  \n",
        "    Вычислим:"
      ],
      "metadata": {
        "id": "-5rqX4SbYpEg"
      }
    },
    {
      "cell_type": "code",
      "source": [
        "def mean_and_variance(a,b):\n",
        "    return f'На промежутке ({a};{b}]\\nСреднее значение: М(А) = {(a+b)/2: .2f}\\nДисперсия: D(A) = {((b-a)**2)/12: .2f}'\n",
        "print(mean_and_variance(200,800))"
      ],
      "metadata": {
        "colab": {
          "base_uri": "https://localhost:8080/"
        },
        "id": "JBt33StJtPZq",
        "outputId": "02863de4-e928-4610-e197-9ba3008af4f0"
      },
      "execution_count": null,
      "outputs": [
        {
          "output_type": "stream",
          "name": "stdout",
          "text": [
            "На промежутке (200;800]\n",
            "Среднее значение: М(А) =  500.00\n",
            "Дисперсия: D(A) =  30000.00\n"
          ]
        }
      ]
    },
    {
      "cell_type": "markdown",
      "source": [
        "Ответ:    $M(A)=500.00\\\\D(A)=30000.00$"
      ],
      "metadata": {
        "id": "8RukoqHpZC-M"
      }
    },
    {
      "cell_type": "markdown",
      "source": [
        "2. О случайной непрерывной равномерно распределенной величине B известно, что ее дисперсия равна 0.2. Можно ли найти правую границу величины B и ее среднее значение зная, что левая граница равна 0.5? Если да, найдите ее."
      ],
      "metadata": {
        "id": "NLQWWkuTZaaN"
      }
    },
    {
      "cell_type": "markdown",
      "source": [
        "Зная, что дисперсия случайной непрерывной равномерно распределённой на отрезке $(a;b)$величины $B$ находится по формуле: $\\displaystyle D(B)=\\frac{(b-a)^2}{12}$  \n",
        "И имея заданные значения $D(B)=0.2$ и $a=0.5$  \n",
        "Найдем правую границу $b$ величины $B$ из уравнения\n",
        "$\\displaystyle \\frac{(b-0.5)^2}{12}=0.2\\\\b-0.5=\\sqrt{2.4}\\\\b=0.5+\\sqrt{2.4}$  И найдем среднее значение по формуле:\n",
        "$\\displaystyle M(B)=\\frac{a+b}{2}$"
      ],
      "metadata": {
        "id": "0omyE29IZjeM"
      }
    },
    {
      "cell_type": "code",
      "source": [
        "b=0.5+2.4**(1/2)\n",
        "print(f'Левая граница распределения величины В - b = {b: .3f}\\n'\n",
        "      f'Среднее значение В на промежутке (0.5; {b: .3f}) M(B) = {(b+0.5)/2: .3f}'\n",
        "     )"
      ],
      "metadata": {
        "colab": {
          "base_uri": "https://localhost:8080/"
        },
        "id": "FE7SyE6HuCTP",
        "outputId": "7d67b2e0-be57-4b4d-fcdd-f8d6fbd758b0"
      },
      "execution_count": null,
      "outputs": [
        {
          "output_type": "stream",
          "name": "stdout",
          "text": [
            "Левая граница распределения величины В - b =  2.049\n",
            "Среднее значение В на промежутке (0.5;  2.049) M(B) =  1.275\n"
          ]
        }
      ]
    },
    {
      "cell_type": "markdown",
      "source": [
        "Ответ:\n",
        "\n",
        "Левая граница распределения: $b=2.049$\n",
        "\n",
        "Среднее значение: $M(B)=1.275$"
      ],
      "metadata": {
        "id": "TD1EZf9buGrR"
      }
    },
    {
      "cell_type": "markdown",
      "source": [
        "\n",
        "\n",
        "3. Непрерывная случайная величина X распределена нормально и задана плотностью распределения $\\displaystyle f(x)=\\frac{1}{4\\cdot\\sqrt{2\\pi}}\\cdot e^{-\\frac{(x+2)^2}{32}}$ , Найдите:  \n",
        "а) $M(X)$  \n",
        "б) $D(X)$  \n",
        "в) $\\displaystyle\\sigma$ (среднее квадратичное отклонение)  "
      ],
      "metadata": {
        "id": "JODQJ_M0uhRp"
      }
    },
    {
      "cell_type": "markdown",
      "source": [
        "Из общей формулы плотности нормального распределения:  \n",
        "$\\displaystyle f(x)=\\frac{1}{\\sigma\\sqrt{2\\pi}}\\cdot e^{-\\frac{(x-a)^2}{2\\sigma^2}}$  \n",
        "$M(X)=a=-2\\sigma = 4D(X)=\\sigma^2=16$\n"
      ],
      "metadata": {
        "id": "BWVamMcEvQqe"
      }
    },
    {
      "cell_type": "markdown",
      "source": [
        "Ответ:  \n",
        "$M(X)=-2D(X)=16\\displaystyle\\sigma=4$"
      ],
      "metadata": {
        "id": "cs0oiJ7dwp2j"
      }
    },
    {
      "cell_type": "markdown",
      "source": [
        "\n",
        "\n",
        "4. Рост взрослого населения города X имеет нормальное распределение. Причем, средний рост равен 174 см, а среднее квадратичное отклонение равно 8 см. Какова вероятность того, что случайным образом выбранный взрослый человек имеет рост:  \n",
        "а) больше 182 см  \n",
        "б) больше 190 см  \n",
        "в) от 166 см до 190 см  \n",
        "г) от 166 см до 182 см  \n",
        "д) от 158 см до 190 см\n",
        "е) не выше 150 см или не ниже 190 см  \n",
        "ё) не выше 150 см или не ниже 198 см  \n",
        "ж) ниже 166 см.\n"
      ],
      "metadata": {
        "id": "K0g4LGfzxJGw"
      }
    },
    {
      "cell_type": "markdown",
      "source": [
        "Напишем функцию для определения $Z$-значений для данного распределения:"
      ],
      "metadata": {
        "id": "Pxb0ZfFexoEL"
      }
    },
    {
      "cell_type": "code",
      "source": [
        "def z_value(height):\n",
        "    return (height-174)/8"
      ],
      "metadata": {
        "id": "4mofBPB8yS2_"
      },
      "execution_count": null,
      "outputs": []
    },
    {
      "cell_type": "markdown",
      "source": [
        "Для расчета значений вероятности воспользуемся методом cdf, объекта NormalDist стандартного модуля statistics"
      ],
      "metadata": {
        "id": "QNPp0gyCysA2"
      }
    },
    {
      "cell_type": "code",
      "source": [
        "from statistics import NormalDist"
      ],
      "metadata": {
        "id": "byUqVPQzywaD"
      },
      "execution_count": null,
      "outputs": []
    },
    {
      "cell_type": "markdown",
      "source": [
        "\n",
        "\n",
        "a) Определим $Z$\n",
        "-значениe:"
      ],
      "metadata": {
        "id": "Zyvg3jWWzWEM"
      }
    },
    {
      "cell_type": "code",
      "source": [
        "print(z_value(182))"
      ],
      "metadata": {
        "colab": {
          "base_uri": "https://localhost:8080/"
        },
        "id": "YqAbBwnPzbb2",
        "outputId": "f48ffca2-d779-4447-e227-d3f7274c5b4a"
      },
      "execution_count": null,
      "outputs": [
        {
          "output_type": "stream",
          "name": "stdout",
          "text": [
            "1.0\n"
          ]
        }
      ]
    },
    {
      "cell_type": "markdown",
      "source": [
        "метод cdf определяет вероятность того, что случайная величина X будет меньше или равна x, т.е в данном случае $P(X\\le182)$"
      ],
      "metadata": {
        "id": "OAAAWDxRzgIw"
      }
    },
    {
      "cell_type": "code",
      "source": [
        "NormalDist().cdf(z_value(182))"
      ],
      "metadata": {
        "colab": {
          "base_uri": "https://localhost:8080/"
        },
        "id": "xEFBh2Zd0AEJ",
        "outputId": "c2af8c54-83c0-4555-96ab-5f4b0e526012"
      },
      "execution_count": null,
      "outputs": [
        {
          "output_type": "execute_result",
          "data": {
            "text/plain": [
              "0.8413447460685429"
            ]
          },
          "metadata": {},
          "execution_count": 7
        }
      ]
    },
    {
      "cell_type": "markdown",
      "source": [
        "Однако нам нужна вероятность $P(X\\ge182)$, поэтому вычтем полученное значение из 1:"
      ],
      "metadata": {
        "id": "q1NIGNQX0J-6"
      }
    },
    {
      "cell_type": "markdown",
      "source": [],
      "metadata": {
        "id": "vi57vfS80J1D"
      }
    },
    {
      "cell_type": "code",
      "source": [
        "P=1-NormalDist().cdf(z_value(182))\n",
        "P"
      ],
      "metadata": {
        "colab": {
          "base_uri": "https://localhost:8080/"
        },
        "id": "RRYAWS6c0nXH",
        "outputId": "627d6c8a-f899-4145-c8d8-9b9862988a45"
      },
      "execution_count": null,
      "outputs": [
        {
          "output_type": "execute_result",
          "data": {
            "text/plain": [
              "0.15865525393145707"
            ]
          },
          "metadata": {},
          "execution_count": 8
        }
      ]
    },
    {
      "cell_type": "markdown",
      "source": [
        "$P(X\\ge182)=0.1587$"
      ],
      "metadata": {
        "id": "VMbaEoB_0tA_"
      }
    },
    {
      "cell_type": "markdown",
      "source": [
        "б) Определим $Z$-значениe:"
      ],
      "metadata": {
        "id": "EV6jVzeq07hY"
      }
    },
    {
      "cell_type": "code",
      "source": [
        "z=z_value(190)\n",
        "z"
      ],
      "metadata": {
        "colab": {
          "base_uri": "https://localhost:8080/"
        },
        "id": "LcWA0e8s1H2m",
        "outputId": "b52ecaa8-4b55-400d-c88c-6f3310499f0d"
      },
      "execution_count": null,
      "outputs": [
        {
          "output_type": "execute_result",
          "data": {
            "text/plain": [
              "2.0"
            ]
          },
          "metadata": {},
          "execution_count": 9
        }
      ]
    },
    {
      "cell_type": "markdown",
      "source": [
        "\n",
        "\n",
        "Определим $P(X\\ge190)$"
      ],
      "metadata": {
        "id": "dPx9dCp_1Rc0"
      }
    },
    {
      "cell_type": "code",
      "source": [
        "P=1-NormalDist().cdf(z)\n",
        "P"
      ],
      "metadata": {
        "colab": {
          "base_uri": "https://localhost:8080/"
        },
        "id": "aeMkp5PC1k_i",
        "outputId": "7533d0b8-5489-41e8-90fa-d89eae9018d1"
      },
      "execution_count": null,
      "outputs": [
        {
          "output_type": "execute_result",
          "data": {
            "text/plain": [
              "0.02275013194817921"
            ]
          },
          "metadata": {},
          "execution_count": 10
        }
      ]
    },
    {
      "cell_type": "markdown",
      "source": [
        "$P(X\\ge190) = 0.02275$"
      ],
      "metadata": {
        "id": "MwHfjPjO1p5j"
      }
    },
    {
      "cell_type": "markdown",
      "source": [
        "в) Определим $Z_1$\n",
        "и $Z_2$"
      ],
      "metadata": {
        "id": "Ag_l4Txn2AJJ"
      }
    },
    {
      "cell_type": "code",
      "source": [
        "z1=z_value(166)\n",
        "z1"
      ],
      "metadata": {
        "colab": {
          "base_uri": "https://localhost:8080/"
        },
        "id": "sRhjfOp22RuI",
        "outputId": "b024fe1d-28b8-4a13-ae11-bf4422bb0f3d"
      },
      "execution_count": null,
      "outputs": [
        {
          "output_type": "execute_result",
          "data": {
            "text/plain": [
              "-1.0"
            ]
          },
          "metadata": {},
          "execution_count": 11
        }
      ]
    },
    {
      "cell_type": "code",
      "source": [
        "z2=z_value(190)\n",
        "z2"
      ],
      "metadata": {
        "colab": {
          "base_uri": "https://localhost:8080/"
        },
        "id": "H8Ov2kU72Y3e",
        "outputId": "4ecdf7cb-4a04-4e53-e95d-8f9607819af5"
      },
      "execution_count": null,
      "outputs": [
        {
          "output_type": "execute_result",
          "data": {
            "text/plain": [
              "2.0"
            ]
          },
          "metadata": {},
          "execution_count": 12
        }
      ]
    },
    {
      "cell_type": "markdown",
      "source": [
        "Определим $P(166\\le X\\le 190)$"
      ],
      "metadata": {
        "id": "pttwReVP2iHo"
      }
    },
    {
      "cell_type": "code",
      "source": [
        "P=NormalDist().cdf(z2)-NormalDist().cdf(z1)\n",
        "P"
      ],
      "metadata": {
        "colab": {
          "base_uri": "https://localhost:8080/"
        },
        "id": "ITFHnYIv2_XC",
        "outputId": "a39ab1a3-dd6f-4460-9d97-acbdb1b7c001"
      },
      "execution_count": null,
      "outputs": [
        {
          "output_type": "execute_result",
          "data": {
            "text/plain": [
              "0.8185946141203637"
            ]
          },
          "metadata": {},
          "execution_count": 13
        }
      ]
    },
    {
      "cell_type": "markdown",
      "source": [
        "$P(166\\le X\\le 190) = 0.8186$"
      ],
      "metadata": {
        "id": "gpkfuBYJ3D8P"
      }
    },
    {
      "cell_type": "markdown",
      "source": [
        "г) Определим $Z_1$\n",
        "и $Z_2$"
      ],
      "metadata": {
        "id": "GXyTJC0M3N7w"
      }
    },
    {
      "cell_type": "code",
      "source": [
        "z1=z_value(166)\n",
        "z1"
      ],
      "metadata": {
        "colab": {
          "base_uri": "https://localhost:8080/"
        },
        "id": "F7xV9qpK3bAp",
        "outputId": "4c84361e-b583-4085-ca7a-48bb652a9738"
      },
      "execution_count": null,
      "outputs": [
        {
          "output_type": "execute_result",
          "data": {
            "text/plain": [
              "-1.0"
            ]
          },
          "metadata": {},
          "execution_count": 14
        }
      ]
    },
    {
      "cell_type": "code",
      "source": [
        "z2=z_value(182)\n",
        "z2"
      ],
      "metadata": {
        "colab": {
          "base_uri": "https://localhost:8080/"
        },
        "id": "Sbu8fYw63gb3",
        "outputId": "475ba149-01fb-4ea7-bd51-130f0c132a6b"
      },
      "execution_count": null,
      "outputs": [
        {
          "output_type": "execute_result",
          "data": {
            "text/plain": [
              "1.0"
            ]
          },
          "metadata": {},
          "execution_count": 15
        }
      ]
    },
    {
      "cell_type": "markdown",
      "source": [
        "Определим $P(166\\le X\\le 182)$"
      ],
      "metadata": {
        "id": "AXm2RNSz3qGj"
      }
    },
    {
      "cell_type": "code",
      "source": [
        "P=NormalDist().cdf(z2)-NormalDist().cdf(z1)\n",
        "P"
      ],
      "metadata": {
        "colab": {
          "base_uri": "https://localhost:8080/"
        },
        "id": "wnGGSkDg3xjj",
        "outputId": "a6c29e23-a303-44dc-f4d0-772f97dfd3cf"
      },
      "execution_count": null,
      "outputs": [
        {
          "output_type": "execute_result",
          "data": {
            "text/plain": [
              "0.6826894921370859"
            ]
          },
          "metadata": {},
          "execution_count": 16
        }
      ]
    },
    {
      "cell_type": "markdown",
      "source": [
        "$P(166\\le X\\le 182) = 0.6827$"
      ],
      "metadata": {
        "id": "Nbd63m2K34KI"
      }
    },
    {
      "cell_type": "markdown",
      "source": [
        "д) Определим $Z_1$\n",
        "и $Z_2$"
      ],
      "metadata": {
        "id": "NO9mltTr3-sJ"
      }
    },
    {
      "cell_type": "code",
      "source": [
        "z1=z_value(158)\n",
        "z1"
      ],
      "metadata": {
        "colab": {
          "base_uri": "https://localhost:8080/"
        },
        "id": "WvXNBRg-4Jhv",
        "outputId": "f5124a2c-aad2-4661-dde8-ab1502082074"
      },
      "execution_count": null,
      "outputs": [
        {
          "output_type": "execute_result",
          "data": {
            "text/plain": [
              "-2.0"
            ]
          },
          "metadata": {},
          "execution_count": 17
        }
      ]
    },
    {
      "cell_type": "code",
      "source": [
        "z2=z_value(190)\n",
        "z2"
      ],
      "metadata": {
        "colab": {
          "base_uri": "https://localhost:8080/"
        },
        "id": "FnTeAIHw4Pfg",
        "outputId": "2bd3c65f-869e-4637-967c-23e60a2d7422"
      },
      "execution_count": null,
      "outputs": [
        {
          "output_type": "execute_result",
          "data": {
            "text/plain": [
              "2.0"
            ]
          },
          "metadata": {},
          "execution_count": 18
        }
      ]
    },
    {
      "cell_type": "markdown",
      "source": [
        "Определим $P(158\\le X\\le 190)$"
      ],
      "metadata": {
        "id": "WqCAUblP4WMi"
      }
    },
    {
      "cell_type": "code",
      "source": [
        "P=NormalDist().cdf(z2)-NormalDist().cdf(z1)\n",
        "P"
      ],
      "metadata": {
        "colab": {
          "base_uri": "https://localhost:8080/"
        },
        "id": "RQeyUdyE4cZm",
        "outputId": "eed0ff64-ce9d-4782-dc34-e0d2fa8366d6"
      },
      "execution_count": null,
      "outputs": [
        {
          "output_type": "execute_result",
          "data": {
            "text/plain": [
              "0.9544997361036416"
            ]
          },
          "metadata": {},
          "execution_count": 19
        }
      ]
    },
    {
      "cell_type": "markdown",
      "source": [
        "$P(158\\le X\\le 190) = 0.9545$"
      ],
      "metadata": {
        "id": "XmK5KiFC4iWQ"
      }
    },
    {
      "cell_type": "markdown",
      "source": [
        "е) Определим $Z_1$\n",
        "и $Z_2$"
      ],
      "metadata": {
        "id": "GagCqBjM4uWW"
      }
    },
    {
      "cell_type": "code",
      "source": [
        "z1=z_value(150)\n",
        "z1"
      ],
      "metadata": {
        "colab": {
          "base_uri": "https://localhost:8080/"
        },
        "id": "_drkBv-N48yF",
        "outputId": "e19e0bfe-a2cb-4dfd-fed5-6c4daebfb8ca"
      },
      "execution_count": null,
      "outputs": [
        {
          "output_type": "execute_result",
          "data": {
            "text/plain": [
              "-3.0"
            ]
          },
          "metadata": {},
          "execution_count": 20
        }
      ]
    },
    {
      "cell_type": "code",
      "source": [
        "z2=z_value(190)\n",
        "z2"
      ],
      "metadata": {
        "colab": {
          "base_uri": "https://localhost:8080/"
        },
        "id": "3iX7QlTU4_bw",
        "outputId": "76946108-e98d-4674-b1fb-9133521a4114"
      },
      "execution_count": null,
      "outputs": [
        {
          "output_type": "execute_result",
          "data": {
            "text/plain": [
              "2.0"
            ]
          },
          "metadata": {},
          "execution_count": 21
        }
      ]
    },
    {
      "cell_type": "markdown",
      "source": [
        "Определим $P(X\\le150\\cup X\\ge 190)$"
      ],
      "metadata": {
        "id": "9pnXldhr5I4w"
      }
    },
    {
      "cell_type": "code",
      "source": [
        "P=NormalDist().cdf(z1)+(1-NormalDist().cdf(z2))\n",
        "P"
      ],
      "metadata": {
        "colab": {
          "base_uri": "https://localhost:8080/"
        },
        "id": "u_DHZFAb5x1s",
        "outputId": "c3bd942d-35b5-4fd9-9d05-c52d1f69611a"
      },
      "execution_count": null,
      "outputs": [
        {
          "output_type": "execute_result",
          "data": {
            "text/plain": [
              "0.024100029979809312"
            ]
          },
          "metadata": {},
          "execution_count": 22
        }
      ]
    },
    {
      "cell_type": "markdown",
      "source": [
        "$P(X\\le150\\cup X\\ge 190) = 0.0241$"
      ],
      "metadata": {
        "id": "oZTvt4_z50n5"
      }
    },
    {
      "cell_type": "markdown",
      "source": [
        "ё) Определим $Z_1$ и $Z_2$"
      ],
      "metadata": {
        "id": "7TgOmTaD6AaG"
      }
    },
    {
      "cell_type": "code",
      "source": [
        "z1=z_value(150)\n",
        "z1"
      ],
      "metadata": {
        "colab": {
          "base_uri": "https://localhost:8080/"
        },
        "id": "BgmWNLTC6LRd",
        "outputId": "fa6cb60f-d21e-4afd-f7d1-1240d2013fd5"
      },
      "execution_count": null,
      "outputs": [
        {
          "output_type": "execute_result",
          "data": {
            "text/plain": [
              "-3.0"
            ]
          },
          "metadata": {},
          "execution_count": 23
        }
      ]
    },
    {
      "cell_type": "code",
      "source": [
        "z2=z_value(198)\n",
        "z2"
      ],
      "metadata": {
        "colab": {
          "base_uri": "https://localhost:8080/"
        },
        "id": "Za1TsUxE6Pl0",
        "outputId": "c1091e4e-0212-443f-898b-5c1a79173d86"
      },
      "execution_count": null,
      "outputs": [
        {
          "output_type": "execute_result",
          "data": {
            "text/plain": [
              "3.0"
            ]
          },
          "metadata": {},
          "execution_count": 24
        }
      ]
    },
    {
      "cell_type": "markdown",
      "source": [
        "Определим $P(X\\le150\\cup X\\ge 198)$"
      ],
      "metadata": {
        "id": "aHYSdQN36YCE"
      }
    },
    {
      "cell_type": "code",
      "source": [
        "P=NormalDist().cdf(z1)+(1-NormalDist().cdf(z2))\n",
        "P"
      ],
      "metadata": {
        "colab": {
          "base_uri": "https://localhost:8080/"
        },
        "id": "PbcjD0Oc6jZn",
        "outputId": "e7d5d4cc-e553-4554-b590-883402ba437d"
      },
      "execution_count": null,
      "outputs": [
        {
          "output_type": "execute_result",
          "data": {
            "text/plain": [
              "0.002699796063260207"
            ]
          },
          "metadata": {},
          "execution_count": 25
        }
      ]
    },
    {
      "cell_type": "markdown",
      "source": [
        "$P(X\\le150\\cup X\\ge 198) = 0.0027$"
      ],
      "metadata": {
        "id": "n2vClp1b6oC5"
      }
    },
    {
      "cell_type": "markdown",
      "source": [
        "ж) Определим $Z$-значениe:"
      ],
      "metadata": {
        "id": "zbCPGcBs6xwQ"
      }
    },
    {
      "cell_type": "code",
      "source": [
        "z=z_value(166)\n",
        "z"
      ],
      "metadata": {
        "colab": {
          "base_uri": "https://localhost:8080/"
        },
        "id": "CBuyB3nY63c4",
        "outputId": "e828827f-ae3f-48ea-badb-98e47c67efb4"
      },
      "execution_count": null,
      "outputs": [
        {
          "output_type": "execute_result",
          "data": {
            "text/plain": [
              "-1.0"
            ]
          },
          "metadata": {},
          "execution_count": 26
        }
      ]
    },
    {
      "cell_type": "markdown",
      "source": [
        "Определим $P(X\\le166)$"
      ],
      "metadata": {
        "id": "eWH-G-jL7FtJ"
      }
    },
    {
      "cell_type": "code",
      "source": [
        "P=NormalDist().cdf(z)\n",
        "P"
      ],
      "metadata": {
        "colab": {
          "base_uri": "https://localhost:8080/"
        },
        "id": "yO1Je4hf7ty6",
        "outputId": "cda37d79-b42f-4d90-c2a3-193b3f938e82"
      },
      "execution_count": 27,
      "outputs": [
        {
          "output_type": "execute_result",
          "data": {
            "text/plain": [
              "0.15865525393145707"
            ]
          },
          "metadata": {},
          "execution_count": 27
        }
      ]
    },
    {
      "cell_type": "markdown",
      "source": [
        "$P(X\\le166) = 0.1587$"
      ],
      "metadata": {
        "id": "30yohLL17zSV"
      }
    },
    {
      "cell_type": "markdown",
      "source": [
        "Ответ:  \n",
        "а) $P(X\\ge182)=0.1587$;  \n",
        "б) $P(X\\ge190) = 0.02275$;  \n",
        "в) $P(166\\le X\\le 190) = 0.8186$;  \n",
        "г) $P(166\\le X\\le 182) = 0.6827$;  \n",
        "д) $P(158\\le X\\le 190) = 0.9545$;  \n",
        "е) $P(X\\le150\\cup X\\ge 190) = 0.0241$;  \n",
        "ё) $P(X\\le150\\cup X\\ge 198) = 0.0027$;  \n",
        "ж) $P(X\\le166) = 0.1587$"
      ],
      "metadata": {
        "id": "Bc90VYzn73zA"
      }
    },
    {
      "cell_type": "markdown",
      "source": [
        "5. На сколько сигм (средних квадратичных отклонений) отклоняется рост человека, равный 190 см, от математического ожидания роста в популяции, в которой M(X) = 178 см и D(X) = 25 кв.см?"
      ],
      "metadata": {
        "id": "SvBnb3K49F8k"
      }
    },
    {
      "cell_type": "markdown",
      "source": [
        "Воспользуемся формулой расчета $Z$\n",
        "-оценки: $\\displaystyle Z=\\frac{X-\\bar x}{\\sigma}=\\frac{190-178}{\\sqrt{25}}=\\frac{12}{5}$  "
      ],
      "metadata": {
        "id": "4iCNAmtG9JLG"
      }
    },
    {
      "cell_type": "code",
      "source": [
        "Z=(190-178)/25**(1/2)\n",
        "Z"
      ],
      "metadata": {
        "colab": {
          "base_uri": "https://localhost:8080/"
        },
        "id": "-uF7xuJ39pGB",
        "outputId": "61211bdb-6e29-4a47-fb86-57133d1c768d"
      },
      "execution_count": 28,
      "outputs": [
        {
          "output_type": "execute_result",
          "data": {
            "text/plain": [
              "2.4"
            ]
          },
          "metadata": {},
          "execution_count": 28
        }
      ]
    },
    {
      "cell_type": "code",
      "source": [
        "print(f'Рост человека, равный 190 см, отклоняется от математического ожидания роста в популяции, \\n'\n",
        "      f'в которой M(X) = 178 см и D(X) = 25 кв.см на Z = {Z} сигм.')"
      ],
      "metadata": {
        "colab": {
          "base_uri": "https://localhost:8080/"
        },
        "id": "I2w0PGRW9sM2",
        "outputId": "30f6687b-b599-49f7-e696-c1d302200f60"
      },
      "execution_count": 29,
      "outputs": [
        {
          "output_type": "stream",
          "name": "stdout",
          "text": [
            "Рост человека, равный 190 см, отклоняется от математического ожидания роста в популяции, \n",
            "в которой M(X) = 178 см и D(X) = 25 кв.см на Z = 2.4 сигм.\n"
          ]
        }
      ]
    },
    {
      "cell_type": "markdown",
      "source": [
        "Ответ:\n",
        "\n",
        "на $2.4$\n",
        "сигмы"
      ],
      "metadata": {
        "id": "D3CplX1z9zLv"
      }
    }
  ]
}