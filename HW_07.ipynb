{
  "cells": [
    {
      "cell_type": "markdown",
      "id": "21a555e9",
      "metadata": {
        "id": "21a555e9"
      },
      "source": [
        "## Семинар 7\n",
        "\n",
        "### 1. Выбрать тест и проверить, есть  ли различия между выборками:  \n",
        "1 )  Даны две  независимые выборки. Не соблюдается условие нормальности  \n",
        "\n",
        "x1  380,420, 290  \n",
        "y1 140,360,200,900  \n",
        "\n",
        "Сделайте вывод по результатам, полученным с помощью функции  "
      ]
    },
    {
      "cell_type": "code",
      "execution_count": 1,
      "id": "ed4e3b91",
      "metadata": {
        "id": "ed4e3b91"
      },
      "outputs": [],
      "source": [
        "import numpy as np\n",
        "import scipy.stats as stats"
      ]
    },
    {
      "cell_type": "code",
      "execution_count": 2,
      "id": "a8b5b5a5",
      "metadata": {
        "colab": {
          "base_uri": "https://localhost:8080/",
          "height": 0
        },
        "id": "a8b5b5a5",
        "outputId": "9ba4e6d0-3d74-4d5e-d4c2-23a97fd6c788"
      },
      "outputs": [
        {
          "output_type": "execute_result",
          "data": {
            "text/plain": [
              "MannwhitneyuResult(statistic=8.0, pvalue=0.6285714285714286)"
            ]
          },
          "metadata": {},
          "execution_count": 2
        }
      ],
      "source": [
        "\n",
        "x1 = np.array([380, 420, 290])\n",
        "y1 = np.array([140, 360, 200, 900])\n",
        "\n",
        "stats.mannwhitneyu(x1, y1)"
      ]
    },
    {
      "cell_type": "markdown",
      "id": "85384953",
      "metadata": {
        "id": "85384953"
      },
      "source": [
        "Ответ:  \n",
        "p-value > $\\alpha$, $H0$ - не отвергается с ошибкой $\\alpha=0.05$, выборки статистически одинаковые"
      ]
    },
    {
      "cell_type": "markdown",
      "id": "01afbec7",
      "metadata": {
        "id": "01afbec7"
      },
      "source": [
        "### 2. Исследовалось влияние препарата на уровень давления пациентов.  \n",
        "Сначала измерялось давление до приема препарата, потом через 10 минут и через 30 минут.  \n",
        "Есть ли статистически значимые различия?  \n",
        "\n",
        "1е измерение до приема препарата: 150, 160, 165, 145, 155  \n",
        "2е измерение через 10 минут: 140, 155, 150,  130, 135  \n",
        "3е измерение через 30 минут: 130, 130, 120, 130, 125  "
      ]
    },
    {
      "cell_type": "code",
      "execution_count": 4,
      "id": "b1de7860",
      "metadata": {
        "colab": {
          "base_uri": "https://localhost:8080/",
          "height": 0
        },
        "id": "b1de7860",
        "outputId": "f0144416-26dd-470f-8b19-883ee966f9e6"
      },
      "outputs": [
        {
          "output_type": "execute_result",
          "data": {
            "text/plain": [
              "FriedmanchisquareResult(statistic=9.578947368421062, pvalue=0.00831683351100441)"
            ]
          },
          "metadata": {},
          "execution_count": 4
        }
      ],
      "source": [
        "x1 = np.array([150, 160, 165, 145, 155])\n",
        "x2 = np.array([140, 155, 150, 130, 135])\n",
        "x3 = np.array([130, 130, 120, 130, 125])\n",
        "\n",
        "stats.friedmanchisquare(x1, x2, x3)"
      ]
    },
    {
      "cell_type": "markdown",
      "id": "39fb7777",
      "metadata": {
        "id": "39fb7777"
      },
      "source": [
        "Ответ:  \n",
        "p-value  < $\\alpha$, $H0$ - отвергается с ошибкой $\\alpha=0.05$, принимается гипотиза $Н1$ - различия есть.  \n",
        "Препарат работает."
      ]
    },
    {
      "cell_type": "markdown",
      "id": "a1ca5624",
      "metadata": {
        "id": "a1ca5624"
      },
      "source": [
        "### 3. Сравните 1 и 2 е измерения, предполагая, что 3го измерения через 30 минут не было."
      ]
    },
    {
      "cell_type": "code",
      "execution_count": 5,
      "id": "d24f3e5c",
      "metadata": {
        "colab": {
          "base_uri": "https://localhost:8080/",
          "height": 0
        },
        "id": "d24f3e5c",
        "outputId": "818add9a-ab5f-49a9-9786-78748f5353e8"
      },
      "outputs": [
        {
          "output_type": "execute_result",
          "data": {
            "text/plain": [
              "WilcoxonResult(statistic=0.0, pvalue=0.0625)"
            ]
          },
          "metadata": {},
          "execution_count": 5
        }
      ],
      "source": [
        "x1 = np.array([150, 160, 165, 145, 155])\n",
        "x2 = np.array([140, 155, 150, 130, 135])\n",
        "\n",
        "stats.wilcoxon(x1, x2)"
      ]
    },
    {
      "cell_type": "markdown",
      "id": "0e8536e8",
      "metadata": {
        "id": "0e8536e8"
      },
      "source": [
        "Ответ:  \n",
        "Cтатистически значимых различий не обнаружено на уровне значимости $\\alpha=0.05$.  \n",
        "Препарат не работает."
      ]
    },
    {
      "cell_type": "markdown",
      "id": "70950c2c",
      "metadata": {
        "id": "70950c2c"
      },
      "source": [
        "### 4. Даны 3 группы  учеников плавания.  \n",
        "\n",
        "В 1 группе время на дистанцию 50 м составляют: 56, 60, 62, 55, 71, 67, 59, 58, 64, 67  \n",
        "Вторая группа : 57, 58, 69, 48, 72, 70, 68, 71, 50, 53  \n",
        "Третья группа: 57, 67, 49, 48, 47, 55, 66, 51, 54  "
      ]
    },
    {
      "cell_type": "code",
      "execution_count": 7,
      "id": "6435908c",
      "metadata": {
        "colab": {
          "base_uri": "https://localhost:8080/",
          "height": 0
        },
        "id": "6435908c",
        "outputId": "7ebff642-345f-4823-d39a-d5fd0abc4d81"
      },
      "outputs": [
        {
          "output_type": "execute_result",
          "data": {
            "text/plain": [
              "KruskalResult(statistic=5.465564058257224, pvalue=0.0650380998590494)"
            ]
          },
          "metadata": {},
          "execution_count": 7
        }
      ],
      "source": [
        "x1 = np.array([56, 60, 62, 55, 71, 67, 59, 58, 64, 67])\n",
        "x2 = np.array([57, 58, 69, 48, 72, 70, 68, 71, 50, 53])\n",
        "x3 = np.array([57, 67, 49, 48, 47, 55, 66, 51, 54])\n",
        "\n",
        "stats.kruskal(x1, x2, x3)"
      ]
    },
    {
      "cell_type": "markdown",
      "id": "4dc39251",
      "metadata": {
        "id": "4dc39251"
      },
      "source": [
        "Ответ:   \n",
        "p-value > $\\alpha$, $H0$ - не отвергается с ошибкой $\\alpha=0.05$, различий нет, группы статистически равны"
      ]
    },
    {
      "cell_type": "markdown",
      "id": "af04ab71",
      "metadata": {
        "id": "af04ab71"
      },
      "source": [
        "### 5. Заявляется, что партия изготавливается со средним арифметическим 2,5 см.  \n",
        "Проверить данную гипотезу, если известно, что размеры изделий подчинены нормальному закону распределения.  \n",
        "Объем выборки 10, уровень статистической значимости 5%  \n",
        "\n",
        "2.51, 2.35, 2.74, 2.56, 2.40, 2.36, 2.65, 2.7, 2.67, 2.34"
      ]
    },
    {
      "cell_type": "code",
      "execution_count": 8,
      "id": "5d9e4260",
      "metadata": {
        "colab": {
          "base_uri": "https://localhost:8080/",
          "height": 0
        },
        "id": "5d9e4260",
        "outputId": "220ce52d-5af3-410d-efa4-f697c5b5fa66"
      },
      "outputs": [
        {
          "output_type": "execute_result",
          "data": {
            "text/plain": [
              "0.563061366180296"
            ]
          },
          "metadata": {},
          "execution_count": 8
        }
      ],
      "source": [
        "X = np.array([2.51, 2.35, 2.74, 2.56, 2.40, 2.36, 2.65, 2.7, 2.67, 2.34])\n",
        "\n",
        "mean = X.mean()\n",
        "std = X.std(ddof=1)\n",
        "\n",
        "t_fact = (mean - 2.5) / std * np.sqrt(len(X))\n",
        "t_fact"
      ]
    },
    {
      "cell_type": "markdown",
      "id": "f1fd7822",
      "metadata": {
        "id": "f1fd7822"
      },
      "source": [
        "По таблице для критерия Стьюдента находим t = 1.833 (для  0.05 и 9 степенями свободы).  \n",
        "Так как t > t_fact (1.833 > 0.56), то гипотеза верна и изделия соответствуют заявленному размеру."
      ]
    },
    {
      "cell_type": "code",
      "execution_count": 9,
      "id": "e0d7ca87",
      "metadata": {
        "colab": {
          "base_uri": "https://localhost:8080/",
          "height": 0
        },
        "id": "e0d7ca87",
        "outputId": "77063f37-c454-44ee-9619-42cc1fc26bba"
      },
      "outputs": [
        {
          "output_type": "stream",
          "name": "stdout",
          "text": [
            "t теор = 2.26\n",
            "t рассч = 0.563\n"
          ]
        }
      ],
      "source": [
        "n = 10\n",
        "m = 2.5\n",
        "\n",
        "t = stats.t.ppf(0.975, 9)\n",
        "print(f\"t теор = {t:.2f}\")\n",
        "\n",
        "t = (mean - m) * np.sqrt(n) / std\n",
        "print(f\"t рассч = {t:.3f}\")"
      ]
    },
    {
      "cell_type": "markdown",
      "id": "9e2f3e05",
      "metadata": {
        "id": "9e2f3e05"
      },
      "source": [
        "Ответ:  \n",
        "так как t теор > t рассч, считаем что нулевая гипотеза верна"
      ]
    }
  ],
  "metadata": {
    "kernelspec": {
      "display_name": "Python 3",
      "language": "python",
      "name": "python3"
    },
    "language_info": {
      "codemirror_mode": {
        "name": "ipython",
        "version": 3
      },
      "file_extension": ".py",
      "mimetype": "text/x-python",
      "name": "python",
      "nbconvert_exporter": "python",
      "pygments_lexer": "ipython3",
      "version": "3.11.0 (main, Oct 24 2022, 18:26:48) [MSC v.1933 64 bit (AMD64)]"
    },
    "vscode": {
      "interpreter": {
        "hash": "54c843019337f05979ffbb2eaecfdb77b7df86622fb79d5871bba6457374c4df"
      }
    },
    "colab": {
      "provenance": []
    }
  },
  "nbformat": 4,
  "nbformat_minor": 5
}