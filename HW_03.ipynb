{
  "nbformat": 4,
  "nbformat_minor": 0,
  "metadata": {
    "colab": {
      "provenance": [],
      "authorship_tag": "ABX9TyPRn5ya+ZFxrST6CdC6rcgb",
      "include_colab_link": true
    },
    "kernelspec": {
      "name": "python3",
      "display_name": "Python 3"
    },
    "language_info": {
      "name": "python"
    }
  },
  "cells": [
    {
      "cell_type": "markdown",
      "metadata": {
        "id": "view-in-github",
        "colab_type": "text"
      },
      "source": [
        "<a href=\"https://colab.research.google.com/github/tizhen/GB_repos_25.10/blob/main/Untitled2.ipynb\" target=\"_parent\"><img src=\"https://colab.research.google.com/assets/colab-badge.svg\" alt=\"Open In Colab\"/></a>"
      ]
    },
    {
      "cell_type": "markdown",
      "source": [
        "# Семинар 3"
      ],
      "metadata": {
        "id": "Ckn5os1i2lgp"
      }
    },
    {
      "cell_type": "markdown",
      "source": [
        "\n",
        "\n",
        "1. Даны значения зарплат из выборки выпускников: 100, 80, 75, 77, 89, 33, 45, 25, 65, 17, 30, 24, 57, 55, 70, 75, 65, 84, 90, 150. Посчитать (желательно без использования статистических методов наподобие std, var, mean):   \n",
        "a) среднее арифметическое,  \n",
        "b) среднее квадратичное отклонение,\n",
        "c) смещенную и несмещенную оценки дисперсий для данной выборки."
      ],
      "metadata": {
        "id": "3iamGmZ43d9v"
      }
    },
    {
      "cell_type": "code",
      "execution_count": 1,
      "metadata": {
        "id": "ybp0iXEk2EaJ"
      },
      "outputs": [],
      "source": [
        "import numpy as np\n",
        "from math import factorial"
      ]
    },
    {
      "cell_type": "code",
      "source": [
        "arr=np.array([100, 80, 75, 77, 89, 33, 45, 25, 65, 17, 30, 24, 57, 55, 70, 75, 65, 84, 90, 150])\n",
        "arr"
      ],
      "metadata": {
        "colab": {
          "base_uri": "https://localhost:8080/"
        },
        "id": "EDSf2rsw5FcK",
        "outputId": "7cd4ad7e-3ae9-418a-d291-486b10d378dc"
      },
      "execution_count": null,
      "outputs": [
        {
          "output_type": "execute_result",
          "data": {
            "text/plain": [
              "array([100,  80,  75,  77,  89,  33,  45,  25,  65,  17,  30,  24,  57,\n",
              "        55,  70,  75,  65,  84,  90, 150])"
            ]
          },
          "metadata": {},
          "execution_count": 6
        }
      ]
    },
    {
      "cell_type": "markdown",
      "source": [
        "a) Расчитаем среднее арифметическое по формуле:\n",
        "$\\displaystyle M(X)=\\frac{1}{n}\\sum^n_{i=1}x_i$"
      ],
      "metadata": {
        "id": "wgGGJPe75r-O"
      }
    },
    {
      "cell_type": "code",
      "source": [
        "def mean_value(array):\n",
        "    return sum(array)/len(array)"
      ],
      "metadata": {
        "id": "yxB_3MJXCSHB"
      },
      "execution_count": null,
      "outputs": []
    },
    {
      "cell_type": "code",
      "source": [
        "print(f'Среднее арифметическое для данной выборки М(Х) = {mean_value(arr): .2f}')"
      ],
      "metadata": {
        "colab": {
          "base_uri": "https://localhost:8080/"
        },
        "id": "o9s3wWqqC1lx",
        "outputId": "8469dd85-44b8-476b-c27d-c7b6c502af8f"
      },
      "execution_count": null,
      "outputs": [
        {
          "output_type": "stream",
          "name": "stdout",
          "text": [
            "Среднее арифметическое для данной выборки М(Х) =  65.30\n"
          ]
        }
      ]
    },
    {
      "cell_type": "code",
      "source": [
        "np.mean(arr)"
      ],
      "metadata": {
        "colab": {
          "base_uri": "https://localhost:8080/"
        },
        "id": "lM6bYdCODITX",
        "outputId": "4bc9535e-99df-45e6-85b0-a9c864a26858"
      },
      "execution_count": null,
      "outputs": [
        {
          "output_type": "execute_result",
          "data": {
            "text/plain": [
              "65.3"
            ]
          },
          "metadata": {},
          "execution_count": 9
        }
      ]
    },
    {
      "cell_type": "markdown",
      "source": [
        "б) Расчитаем среднее квадратичное отклонение выборки по формуле: $\\sigma=\\sqrt{\\frac{\\displaystyle\\sum^n_{i=1}(x_{i}-\\bar x)^2}{n}}$\n"
      ],
      "metadata": {
        "id": "zjZ35iLHDRdL"
      }
    },
    {
      "cell_type": "code",
      "source": [
        "def mean_square_deviation(array):\n",
        "    square_dev=(array-mean_value(array))**2\n",
        "    return (sum(square_dev)/len(square_dev))**(1/2)"
      ],
      "metadata": {
        "id": "5UjAcIVkE5dT"
      },
      "execution_count": null,
      "outputs": []
    },
    {
      "cell_type": "code",
      "source": [
        "print(f'Среднее квадратичное отклонение для данной выборки SD = {mean_square_deviation(arr): .4f}')"
      ],
      "metadata": {
        "colab": {
          "base_uri": "https://localhost:8080/"
        },
        "id": "3Hw1XcVDDKLt",
        "outputId": "9df9d715-4b6c-45ed-dedb-e6e28b4bfdcf"
      },
      "execution_count": null,
      "outputs": [
        {
          "output_type": "stream",
          "name": "stdout",
          "text": [
            "Среднее квадратичное отклонение для данной выборки SD =  30.8239\n"
          ]
        }
      ]
    },
    {
      "cell_type": "markdown",
      "source": [
        "Проверим с помощью функции std:"
      ],
      "metadata": {
        "id": "LKcElXYbHpg3"
      }
    },
    {
      "cell_type": "code",
      "source": [
        "np.std(arr)"
      ],
      "metadata": {
        "colab": {
          "base_uri": "https://localhost:8080/"
        },
        "id": "61wId2mEH0Qh",
        "outputId": "4bfd7acf-34af-4f4d-a38e-b681faee5a7b"
      },
      "execution_count": null,
      "outputs": [
        {
          "output_type": "execute_result",
          "data": {
            "text/plain": [
              "30.823854398825596"
            ]
          },
          "metadata": {},
          "execution_count": 12
        }
      ]
    },
    {
      "cell_type": "markdown",
      "source": [
        "в) Расчитаем смещенную оценку дисперсии по формуле: $\\sigma^2=\\frac{\\displaystyle\\sum^n_{i=1}(x_{i}-\\bar x)^2}{n}$ , а несмещённую по формуле: $\\sigma^2=\\frac{\\displaystyle\\sum^n_{i=1}(x_{i}-\\bar x)^2}{n-1}$"
      ],
      "metadata": {
        "id": "mru7eppQH_fy"
      }
    },
    {
      "cell_type": "code",
      "source": [
        "def dispers(array, no_off=False):\n",
        "#аргумент no_off отвечает за расчет смещенной, или несмещенной оценки дисперсии. По умолчанио расчитывается смещенная.#\n",
        "    square_dev=(array-mean_value(array))**2\n",
        "    return sum(square_dev)/(len(square_dev)-1) if no_off else sum(square_dev)/len(square_dev)"
      ],
      "metadata": {
        "id": "Gn2B8CZ6JYC4"
      },
      "execution_count": null,
      "outputs": []
    },
    {
      "cell_type": "code",
      "source": [
        "print(f'Смещенная оценка дисперсии для данной выборки D = {dispers(arr): .4f}\\n'\n",
        "      f'Немещенная оценка дисперсии для данной выборки D = {dispers(arr, True): .4f}'\n",
        "     )"
      ],
      "metadata": {
        "colab": {
          "base_uri": "https://localhost:8080/"
        },
        "id": "A9G1uydxIwyQ",
        "outputId": "f578abde-c7f4-43e7-f7cc-075b69c5bfd8"
      },
      "execution_count": null,
      "outputs": [
        {
          "output_type": "stream",
          "name": "stdout",
          "text": [
            "Смещенная оценка дисперсии для данной выборки D =  950.1100\n",
            "Немещенная оценка дисперсии для данной выборки D =  1000.1158\n"
          ]
        }
      ]
    },
    {
      "cell_type": "markdown",
      "source": [
        "Проверим с помощью функции var:"
      ],
      "metadata": {
        "id": "l9bLoFVFKIF7"
      }
    },
    {
      "cell_type": "code",
      "source": [
        "np.var(arr)"
      ],
      "metadata": {
        "colab": {
          "base_uri": "https://localhost:8080/"
        },
        "id": "y-PfM5DEKOvO",
        "outputId": "344b4621-eead-4949-de66-34304c44dfc8"
      },
      "execution_count": null,
      "outputs": [
        {
          "output_type": "execute_result",
          "data": {
            "text/plain": [
              "950.11"
            ]
          },
          "metadata": {},
          "execution_count": 15
        }
      ]
    },
    {
      "cell_type": "code",
      "source": [
        "np.var(arr, ddof=1)"
      ],
      "metadata": {
        "colab": {
          "base_uri": "https://localhost:8080/"
        },
        "id": "pZcuo-mWKTAu",
        "outputId": "33db4d9c-edff-4b7f-f408-68f959ce986c"
      },
      "execution_count": null,
      "outputs": [
        {
          "output_type": "execute_result",
          "data": {
            "text/plain": [
              "1000.1157894736842"
            ]
          },
          "metadata": {},
          "execution_count": 16
        }
      ]
    },
    {
      "cell_type": "markdown",
      "source": [
        "### Ответ:      \n",
        "а) $М(Х)= 65.30$;  \n",
        "б) $\\sigma = 30.8239$;  \n",
        "в) $\\sigma^2_{\\text{смещ}}=950.11$, $\\sigma^2_{\\text{несмещ}}=1000.1158$.  \n"
      ],
      "metadata": {
        "id": "7y8XA3VWKVG6"
      }
    },
    {
      "cell_type": "markdown",
      "source": [
        "2. В первом ящике находится 8 мячей, из которых 5 - белые. Во втором ящике - 12 мячей, из которых 5 белых. Из первого ящика вытаскивают случайным образом два мяча, из второго - 4. Какова вероятность того, что 3 мяча белые?"
      ],
      "metadata": {
        "id": "_rQy6oFKLZOf"
      }
    },
    {
      "cell_type": "markdown",
      "source": [
        "\n",
        "\n",
        "Пусть $A -$\n",
        "искомое событие \"из двух корзин вытащили\n",
        "3 белых\" мяча. Тогда это событие может\n",
        "произойти следующими способами:  \n",
        "а) $A_1$ из первой корзины не вытащили ни одного белого мяча, из второй вытащили 3 белых мяча;  \n",
        "б) $A_2$ из первой корзины вытащили 1 белый мяч, из второй вытащили 2 белых мяча;  \n",
        "в) $A_3$ из первой корзины вытащили 2 белых мяча, из второй вытащили 1 белый мяч.  \n",
        "Вероятность события будет определяться как сумма вероятностей этих событий.\n",
        "Определим вероятность события\n",
        ": $P(A_1)=\\frac{C^2_3}{C^2_8}\\cdot\\frac{C^3_5\\cdot C^1_7}{C^4_{12}}$"
      ],
      "metadata": {
        "id": "P0NP0ZwwNSaB"
      }
    },
    {
      "cell_type": "code",
      "source": [
        "def combinations(n,k):\n",
        "    return factorial(n)/(factorial(k)*factorial(n-k))\n"
      ],
      "metadata": {
        "id": "DIXpZvjQQrMs"
      },
      "execution_count": null,
      "outputs": []
    },
    {
      "cell_type": "code",
      "source": [
        "P1=(combinations(3,2)/combinations(8,2))*(combinations(5,3)*combinations(7,1)/combinations(12,4))\n",
        "print(f'Вероятность события \"из первой корзины не вытащили ни одного белого мяча'\n",
        "      f', из второй вытащили 3 белых мяча\"\\nP(A1) = {P1: .4f}'\n",
        "     )"
      ],
      "metadata": {
        "colab": {
          "base_uri": "https://localhost:8080/"
        },
        "id": "MtwoM7dZQ1jc",
        "outputId": "3e6805af-b50a-453e-ee87-63b000bcfe0a"
      },
      "execution_count": null,
      "outputs": [
        {
          "output_type": "stream",
          "name": "stdout",
          "text": [
            "Вероятность события \"из первой корзины не вытащили ни одного белого мяча, из второй вытащили 3 белых мяча\"\n",
            "P(A1) =  0.0152\n"
          ]
        }
      ]
    },
    {
      "cell_type": "markdown",
      "source": [
        "Определим вероятность события $A_2$: $P(A_2)=\\frac{C^1_5\\cdot C^1_3}{C^2_8}\\cdot\\frac{C^2_5\\cdot C^2_7}{C^4_{12}}$"
      ],
      "metadata": {
        "id": "NNTIDjxaQ5Ur"
      }
    },
    {
      "cell_type": "code",
      "source": [
        "P2=(combinations(5,1)*combinations(3,1)*combinations(5,2)*combinations(7,2))/(combinations(8,2)*combinations(12,4))\n",
        "print(f'Вероятность события \"из первой корзины вытащили 1 белый мяч'\n",
        "      f', из второй вытащили 2 белых мяча\"\\nP(A2) = {P2: .4f}'\n",
        "     )"
      ],
      "metadata": {
        "colab": {
          "base_uri": "https://localhost:8080/"
        },
        "id": "ChAib3aMR_LM",
        "outputId": "18bc47ca-4ee5-491c-cfed-a7bf56294f63"
      },
      "execution_count": null,
      "outputs": [
        {
          "output_type": "stream",
          "name": "stdout",
          "text": [
            "Вероятность события \"из первой корзины вытащили 1 белый мяч, из второй вытащили 2 белых мяча\"\n",
            "P(A2) =  0.2273\n"
          ]
        }
      ]
    },
    {
      "cell_type": "markdown",
      "source": [
        "Определим вероятность события $A_3$: $P(A_3)=\\frac{C^2_5}{C^2_8}\\cdot\\frac{C^1_5\\cdot C^3_7}{C^4_{12}}$"
      ],
      "metadata": {
        "id": "5XhrSMGkSV1x"
      }
    },
    {
      "cell_type": "markdown",
      "source": [
        "Вычислим $P(A)=P(A_1+A_2+A_3)=P(A_1)+P(A_2)+P(A_3)$"
      ],
      "metadata": {
        "id": "xwxkWNMKS1_D"
      }
    },
    {
      "cell_type": "markdown",
      "source": [
        "Вероятность того, что из вытащенных мячей 3 белые Р(А) =  0.3687"
      ],
      "metadata": {
        "id": "y2vhkY8JTAsO"
      }
    },
    {
      "cell_type": "markdown",
      "source": [
        "#### Ответ:\n",
        "Вероятность того, что 3 мяча белые $P(A)\\approx 0.3687\\approx 36.87\\%$"
      ],
      "metadata": {
        "id": "-A0FuZsFTIgk"
      }
    },
    {
      "cell_type": "markdown",
      "source": [
        "3. На соревновании по биатлону один из трех спортсменов стреляет и попадает в мишень. Вероятность попадания для первого спортсмена равна 0.9, для второго — 0.8, для третьего — 0.6. Найти вероятность того, что выстрел произведен:  \n",
        "a) первым спортсменом  \n",
        "б) вторым спортсменом   \n",
        "в) третьим спортсменом"
      ],
      "metadata": {
        "id": "A7ocf3hNTkl9"
      }
    },
    {
      "cell_type": "markdown",
      "source": [
        "Рассмотрим следующие события:   \n",
        "$A$ в результате выстрела, цель поражена;  \n",
        "$B_1$ выстрел произведен первым спортсменом;  \n",
        "$B_2$ выстрел произведен вторым спортсменом;  \n",
        "$B_3$ выстрел произведен третьим спортсменом.  \n",
        "Вероятности того, что выстрел произведен определенным спортсменом равны, т.к. выстрел 1, и произвести его могут только 3 этих спортсмена, т.е. события $B_1, B_2, B_3$ составляют полную группу событий.  \n",
        "$\\Rightarrow P(B_1)=P(B_2)=P(B_3)=\\frac{1}{3}$,  \n",
        "Вероятность того, что произошло событие $A$, при условии наступления события $B_n$ даны в условии задачи, т.е. $P_{B_1}(A)=0.9, P_{B_2}(A)=0.8, P_{B_3}(A)=0.6$, и, по формуле **полной** вероятности, вероятность наступления события $A$ - $P(A)=P(B_1)\\cdot P_{B_1}(A)+P(B_2)\\cdot P_{B_2}(A)+P(B_3)\\cdot P_{B_3}(A)=\\frac{1}{3}\\cdot 0.9+\\frac{1}{3}\\cdot 0.8+\\frac{1}{3}\\cdot 0.6$"
      ],
      "metadata": {
        "id": "D0AAUdhxUPu_"
      }
    },
    {
      "cell_type": "code",
      "source": [
        "PB=1/3\n",
        "PA=PB*0.9+PB*0.8+PB*0.6\n",
        "print(f'Полная вероятность наступления события А Р(А) = {PA: .4f}')"
      ],
      "metadata": {
        "colab": {
          "base_uri": "https://localhost:8080/",
          "height": 0
        },
        "id": "YNFWcNKlFPJw",
        "outputId": "0c2b0fa9-2af9-4197-fd27-b52517a7fd10"
      },
      "execution_count": 2,
      "outputs": [
        {
          "output_type": "stream",
          "name": "stdout",
          "text": [
            "Полная вероятность наступления события А Р(А) =  0.7667\n"
          ]
        }
      ]
    },
    {
      "cell_type": "markdown",
      "source": [
        "Теперь, исходя из того, что событие $A$ уже произошло, с помощью формулы **Байеса** оценим вероятность того, что имело место одно из событий $B_n$  \n",
        "$P_A(B_n)=\\frac{P(B_n)\\cdot P_{B_n}(A)}{P(A)}\\Rightarrow\\\\\\\\P_A(B_1)=\\frac{\\frac{1}{3}\\cdot 0.9}{0.7667}\\\\\\\\P_A(B_2)=\\frac{\\frac{1}{3}\\cdot 0.8}{0.7667}\\\\\\\\P_A(B_1)=\\frac{\\frac{1}{3}\\cdot 0.6}{0.7667}$"
      ],
      "metadata": {
        "id": "E6rIOwzwVMBJ"
      }
    },
    {
      "cell_type": "code",
      "source": [
        "PAB1=PB*0.9/PA\n",
        "PAB2=PB*0.8/PA\n",
        "PAB3=PB*0.6/PA\n",
        "print(f'Вероятность того, что выстрел произвёл первый спортсмен: {PAB1: .4f};\\n'\n",
        "      f'Вероятность того, что выстрел произвёл второй спортсмен: {PAB2: .4f};\\n'\n",
        "      f'Вероятность того, что выстрел произвёл третий спортсмен: {PAB3: .4f}.'\n",
        "     )"
      ],
      "metadata": {
        "colab": {
          "base_uri": "https://localhost:8080/",
          "height": 0
        },
        "id": "GmpRrcXsFZaL",
        "outputId": "82a44520-c7a4-4676-f4db-e5f90252a1e3"
      },
      "execution_count": 3,
      "outputs": [
        {
          "output_type": "stream",
          "name": "stdout",
          "text": [
            "Вероятность того, что выстрел произвёл первый спортсмен:  0.3913;\n",
            "Вероятность того, что выстрел произвёл второй спортсмен:  0.3478;\n",
            "Вероятность того, что выстрел произвёл третий спортсмен:  0.2609.\n"
          ]
        }
      ]
    },
    {
      "cell_type": "markdown",
      "source": [
        "Ответ:\n",
        "\n",
        "а) Вероятность того, что выстрел произвёл первый спортсмен: $P_{A}(B_1)\\approx0.3913\\approx39.13\\%$;  \n",
        "б) Вероятность того, что выстрел произвёл второй спортсмен: $P_{A}(B_2)\\approx0.3478\\approx34.78\\%$;  \n",
        "в) Вероятность того, что выстрел произвёл третий спортсмен: $P_{A}(B_3)\\approx0.2609\\approx26.09\\%$."
      ],
      "metadata": {
        "id": "WTePaY7fFvIz"
      }
    },
    {
      "cell_type": "markdown",
      "source": [
        "4. В университет на факультеты A и B поступило равное количество студентов, а на факультет C студентов поступило столько же, сколько на A и B вместе. Вероятность того, что студент факультета A сдаст первую сессию, равна 0.8. Для студента факультета B эта вероятность равна 0.7, а для студента факультета C - 0.9. Студент сдал первую сессию. Какова вероятность, что он учится:  \n",
        "a) на факультете A;  \n",
        "б) на факультете B;  \n",
        "в) на факультете C?"
      ],
      "metadata": {
        "id": "9Nez58oGHHC0"
      }
    },
    {
      "cell_type": "markdown",
      "source": [
        "Пусть $n$ - количество студентов на факультете $A$, тогда на факультете $B$ учится $n$ студентов, а на факультете $C$ $2n$ студентов.  \n",
        "Введем события $S_A$, $S_B$, $S_C$\n",
        ", что сессию сдаёт студент факультетов $A$, $B$ и $C$  cоответственно, и событие $D$ -сессия сдана.  \n",
        "события $S_A$, $S_B$ и $S_C$\n",
        "образуют полную группу событий\n",
        "$\\Rightarrow P(S_A)+P(S_B)+P(S_C)=1$  \n",
        "T.e.\n",
        " $\\frac{1}{n}+\\frac{1}{n}+\\frac{1}{2n}=1\\\\n=2.5\\\\\\Rightarrow P(S_A)=\\frac{1}{n}=0.25, P(S_B)=\\frac{1}{n}=0.25, P(S_C)=\\frac{1}{2n}=0.5$\n",
        "Условные вероятности наступления события $D$, при условии что произошло одно из событий $S_n$\n",
        "даны в условии задачи.\n",
        "Полная вероятность наступления события $D$ исходя из формулы **полной** вероятности:\n",
        "$P(D)=0.25\\cdot 0.8+0.25\\cdot 0.7+0.5\\cdot 0.9$"
      ],
      "metadata": {
        "id": "azuT-F53HXUd"
      }
    },
    {
      "cell_type": "code",
      "source": [
        "PD=0.25*0.8+0.25*0.7+0.5*0.9\n",
        "print(f'Полная вероятность наступления события D, P(D) = {PD}.')"
      ],
      "metadata": {
        "colab": {
          "base_uri": "https://localhost:8080/",
          "height": 0
        },
        "id": "9H1_t0OUKQpv",
        "outputId": "2cc3456b-a233-4bb2-b340-2d8101e4fc28"
      },
      "execution_count": 6,
      "outputs": [
        {
          "output_type": "stream",
          "name": "stdout",
          "text": [
            "Полная вероятность наступления события D, P(D) = 0.825.\n"
          ]
        }
      ]
    },
    {
      "cell_type": "markdown",
      "source": [
        "По формуле **Байеса** вычислим вероятность того, на каком факультете учится студент, успешно сдавший сессию.  \n",
        "$P_D(S_A)=\\frac{P(S_A)\\cdot P_{S_A}(D)}{P(D)}$ студент учится на факультете А  \n",
        "$P_D(S_B)=\\frac{P(S_B)\\cdot P_{S_B}(D)}{P(D)}$ студент учится на факультете В  \n",
        "$P_D(S_C)=\\frac{P(S_C)\\\\cdot P_{S_C}(D)}{P(D)}$ студент учится на факультете С"
      ],
      "metadata": {
        "id": "ipZzwB6EKbqG"
      }
    },
    {
      "cell_type": "code",
      "source": [
        "PDSA=0.25*0.8/PD\n",
        "PDSB=0.25*0.7/PD\n",
        "PDSC=0.5*0.9/PD\n",
        "print(f'Вероятность того, что студент учится на факультете А: {PDSA: .4f};\\n'\n",
        "      f'Вероятность того, что студент учится на факультете B: {PDSB: .4f};\\n'\n",
        "      f'Вероятность того, что студент учится на факультете C: {PDSC: .4f}.'\n",
        "      )"
      ],
      "metadata": {
        "colab": {
          "base_uri": "https://localhost:8080/",
          "height": 0
        },
        "id": "W7bCo0zpLRCl",
        "outputId": "53a17f03-d87f-4e32-bdb7-5548c73a42e6"
      },
      "execution_count": 7,
      "outputs": [
        {
          "output_type": "stream",
          "name": "stdout",
          "text": [
            "Вероятность того, что студент учится на факультете А:  0.2424;\n",
            "Вероятность того, что студент учится на факультете B:  0.2121;\n",
            "Вероятность того, что студент учится на факультете C:  0.5455.\n"
          ]
        }
      ]
    },
    {
      "cell_type": "markdown",
      "source": [
        "#### Ответ:  \n",
        "Вероятность того, что студент учится на факультете А:  $P_D(S_A)\\approx0.2424\\approx24.24\\%$;  \n",
        "Вероятность того, что студент учится на факультете B:  $P_D(S_B)\\approx0.2121\\approx21.21\\%$;  \n",
        "Вероятность того, что студент учится на факультете C:  $P_D(S_C)\\approx0.5455\\approx54.55\\%$."
      ],
      "metadata": {
        "id": "65_y4riHVqTe"
      }
    },
    {
      "cell_type": "markdown",
      "source": [
        "\n",
        "\n",
        "5. Устройство состоит из трех деталей. Для первой детали вероятность выйти из строя в первый месяц равна 0.1, для второй - 0.2, для третьей - 0.25. Какова вероятность того, что в первый месяц выйдут из строя:  \n",
        "а) все детали;  \n",
        "б) только две детали;  \n",
        "в) хотя бы одна деталь;  \n",
        "г) от одной до двух деталей?\n"
      ],
      "metadata": {
        "id": "Yrzrfht_LitB"
      }
    },
    {
      "cell_type": "markdown",
      "source": [
        "Введем следующие события:  \n",
        "а) Событие $A_1$ - вышла из строя первая деталь, по условию задачи-вероятность этого события: $P(A_1)=0.1$;  \n",
        "б) Событие $\\bar A_1$ - противоположное событию $A_1$ - первая деталь не вышла из строя, вероятность этого события: $P(\\bar A_1)=1-P(A_1)=1-0.1=0,9$;  \n",
        "в) Событие $A_2$ - вышла из строя вторая деталь, по условию задачи-вероятность этого события: $P(A_2)=0.2$;  \n",
        "г) Событие $\\bar A_2$ - противоположное событию $A_2$ - вторая деталь не вышла из строя, вероятность этого события: $P(\\bar A_2)=1-P(A_2)=1-0.2=0,8$;  \n",
        "д) Событие $A_3$ - вышла из строя первая деталь, по условию задачи-вероятность этого события: $P(A_3)=0.25$;  \n",
        "е) Событие $\\bar A_3$ - противоположное событию $A_3$ - третья деталь не вышла из строя, вероятность этого события: $P(\\bar A_3)=1-P(A_3)=1-0.25=0,9$  \n",
        "\n",
        "\n",
        "---\n",
        "\n"
      ],
      "metadata": {
        "id": "obX8WZB_Ltlp"
      }
    },
    {
      "cell_type": "markdown",
      "source": [
        "а) Для того, чтобы произошло событие \\\"вышли из строя все детали\\\", необходимо, чтобы **одновременно** произошли события $A_1$, $A_2$, и $A_3$. А вероятностью этого события $P(3)$ будет произведением вероятностей этих событий.  \n",
        "$P(3)=P(A_1)\\cdot P(A_2)\\cdot P(A_3)=0.1\\cdot 0.2\\cdot 0.25$"
      ],
      "metadata": {
        "id": "WvDGz8QdOpOX"
      }
    },
    {
      "cell_type": "code",
      "source": [
        "P3=0.1*0.2*0.25\n",
        "print(f'Вероятность того, что из строя выйдут все детали Р(3) = {P3: .4f}')"
      ],
      "metadata": {
        "colab": {
          "base_uri": "https://localhost:8080/",
          "height": 0
        },
        "id": "-G_Fqee0O_Z7",
        "outputId": "30d7f7a1-0b17-4c81-952c-dabb335dde8b"
      },
      "execution_count": 9,
      "outputs": [
        {
          "output_type": "stream",
          "name": "stdout",
          "text": [
            "Вероятность того, что из строя выйдут все детали Р(3) =  0.0050\n"
          ]
        }
      ]
    },
    {
      "cell_type": "markdown",
      "source": [
        "б) Для того, чтобы произошло событие  \\\"вышли из строя 2 детали\\\", необходимо что бы случилось **одна из** следующих комбинаций событий:\n",
        "1. Произошли события $A_1$ **и** $A_2$ **и** $\\bar A_3$;  \n",
        "2. Произошли события $A_1$ **и** $A_3$ **и** $\\bar A_2$;\n",
        "3. Произошли события $A_2$ **и** $A_3$ **и** $\\bar A_1$.  \n",
        "А вероятностью этого события  $P(2)$  будет **суммой** вероятностей этих комбинаций событий.  \n",
        "$P(2)=P(A_1)\\cdot P(A_2)\\cdot P(\\bar A_3)+P(A_1)\\cdot P(A_3)\\cdot P(\\bar A_2)+P(A_2)\\cdot P(A_3)\\cdot P(\\bar A_1)=0.1\\cdot 0.2\\cdot 0.75+0.1\\cdot 0.25\\cdot 0.8+0.2\\cdot 0.25\\cdot 0.9$"
      ],
      "metadata": {
        "id": "HLgi7jd3P-Mh"
      }
    },
    {
      "cell_type": "code",
      "source": [
        "P2=0.1*0.2*0.75+0.1*0.25*0.8+0.2*0.25*0.9\n",
        "print(f'Вероятность того, что из строя выйдут только 2 детали Р(2) = {P2: .4f}')"
      ],
      "metadata": {
        "colab": {
          "base_uri": "https://localhost:8080/",
          "height": 0
        },
        "id": "um82-snHPiOl",
        "outputId": "1b8b445c-7347-4256-d850-76657e025fca"
      },
      "execution_count": 10,
      "outputs": [
        {
          "output_type": "stream",
          "name": "stdout",
          "text": [
            "Вероятность того, что из строя выйдут только 2 детали Р(2) =  0.0800\n"
          ]
        }
      ]
    },
    {
      "cell_type": "markdown",
      "source": [
        "в) Событие \\\"выйдет из строя хотя бы одна деталь\\\" можно рассмотреть как противоположное событию \\\"не вышло из строя ни одной детали\\\".  \n",
        "Пусть $P(0)$ вероятность события \\\"не вышло из строя ни одной детали\\\". Данное событие может произойти при одновременном наступлении событий $\\bar A_1$, $\\bar A_2$ и $\\bar A_3$.  \n",
        "$P(0)=P(\\bar A_1)\\cdot P(\\bar A_2)\\cdot P(\\bar A_3)=0.9*0.8*0.75$"
      ],
      "metadata": {
        "id": "pRTHg8rpRFhC"
      }
    },
    {
      "cell_type": "code",
      "source": [
        "P0=0.9*0.8*0.75\n",
        "print(f'Вероятность того, что из строя не выйдет ни одной детали Р(0) = {P0: .4f}')"
      ],
      "metadata": {
        "colab": {
          "base_uri": "https://localhost:8080/",
          "height": 0
        },
        "id": "nNGAqb1rPq8L",
        "outputId": "732d631a-10f4-48ac-d58b-a9150d055f01"
      },
      "execution_count": 11,
      "outputs": [
        {
          "output_type": "stream",
          "name": "stdout",
          "text": [
            "Вероятность того, что из строя не выйдет ни одной детали Р(0) =  0.5400\n"
          ]
        }
      ]
    },
    {
      "cell_type": "markdown",
      "source": [
        "Тогда вероятность события \\\"выйдет из строя хотя бы одна деталь $P(\\ge 1)=1-P(0)$"
      ],
      "metadata": {
        "id": "lzSMQf-DRojl"
      }
    },
    {
      "cell_type": "code",
      "source": [
        "P_0=1-P0\n",
        "print(f'Вероятность того, что выйдет из строя хотя бы одна деталь Р(>=1) = {P_0: .4f}')"
      ],
      "metadata": {
        "colab": {
          "base_uri": "https://localhost:8080/",
          "height": 0
        },
        "id": "_DgQYJ-PPwVb",
        "outputId": "eb546bf3-c31c-46ed-c6a2-ed4e3853bf80"
      },
      "execution_count": 12,
      "outputs": [
        {
          "output_type": "stream",
          "name": "stdout",
          "text": [
            "Вероятность того, что выйдет из строя хотя бы одна деталь Р(>=1) =  0.4600\n"
          ]
        }
      ]
    },
    {
      "cell_type": "markdown",
      "source": [
        "г) Событие \\\"из строя выйдут от одной до двух деталей\\\" произойдет при наступлении события \\\"из строя выйдет одна деталь\\\" **или** из строя выйдут 2 детали, следовательно его вероятность будет равна сумме вероятностей этих событий: $P(1,2)=P(1)+P(2)$  \n",
        "$P(2)=0.08$, найдем $P(1)$:   \n",
        "<u>**Способ 1:**</u>  \n",
        "Для того, чтобы произошло событие  \\\"из строя выйдет одна деталь\\\", необходимо что бы случилось **одна из** следующих комбинаций событий:  \n",
        "1. Произошли события $A_1$ **и** $\\bar A_2$ **и** $\\bar A_3$;\n",
        "2. Произошли события $A_2$ **и** $\\bar A_1$ **и** $\\bar A_3$;  \n",
        "3. Произошли события $A_3$ **и** $\\bar A_1$ **и** $\\bar A_2$.  \n",
        "А вероятностью этого события  $P(1)$  будет **суммой** вероятностей этих комбинаций событий.  \n",
        "$P(1)=P(A_1)\\cdot P(\\bar A_2)\\cdot P(\\bar A_3)+P(A_2)\\cdot P(\\bar A_1)\\cdot P(\\bar A_3)+P(A_3)\\cdot P(\\bar A_1)\\dot P(\\bar A_2)=0.1\\cdot 0.8\\cdot 0.75+0.2\\cdot 0.9\\cdot 0.75+0.25\\cdot 0.9\\cdot 0.8$,\n",
        "    \"---\""
      ],
      "metadata": {
        "id": "twDXCIOTR4he"
      }
    },
    {
      "cell_type": "code",
      "source": [
        "P1=0.1*0.8*0.75+0.2*0.9*0.75+0.25*0.9*0.8\n",
        "print(f'Вероятность того, что выйдет из строя одна деталь Р(1) = {P1: .4f}')"
      ],
      "metadata": {
        "colab": {
          "base_uri": "https://localhost:8080/",
          "height": 0
        },
        "id": "hMfqeWooUsbC",
        "outputId": "ab1b0bd3-6715-45de-d13f-07d892d167a0"
      },
      "execution_count": 13,
      "outputs": [
        {
          "output_type": "stream",
          "name": "stdout",
          "text": [
            "Вероятность того, что выйдет из строя одна деталь Р(1) =  0.3750\n"
          ]
        }
      ]
    },
    {
      "cell_type": "markdown",
      "source": [
        "<u>**Способ 2:**</u>  \n",
        "События \\\"не выйдет из строя ни одной детали\\\", \\\"из строя выйдет одна деталь\\\", \\\"из строя выйдет 2 детали\\\", \\\"из строя выйдут все детали\\\" - **несовместны**, и образуют полную группу событий, поэтому сумма вероятностей наступления этих событий равна $1$.  \n",
        "$P(0)+P(1)+P(2)+P(3)=10.54+P(1)+0.08+0.005=1P(1)=0.375$\n",
        "\n",
        "\n",
        "---\n",
        "$P(1,2)=P(1)+P(2)=0.375+0.08=0.455$\n",
        "\n",
        "\n",
        "---\n",
        "\n",
        "\n"
      ],
      "metadata": {
        "id": "fwqNC0Q3Td4L"
      }
    },
    {
      "cell_type": "markdown",
      "source": [
        "Ответ:  \n",
        "а)  Вероятность того что в первый месяц выйдут из строя все детали $P(3)=0.005=0.50\\%$   \n",
        "б)  Вероятность того что в первый месяц выйдут из строя 2 детали $P(2)=0.08=8.00\\%$  \n",
        "в)  Вероятность того что в первый месяц выйдут из строя хотя бы одна деталь $P(\\ge 1)=0.46=46.00\\%$  \n",
        "г)  Вероятность того что в первый месяц выйдут из строя от одной до двух деталей $P(1,2)=0.455=45.50\\%$"
      ],
      "metadata": {
        "id": "3Vxr9hJZTpEx"
      }
    }
  ]
}