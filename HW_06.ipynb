{
  "cells": [
    {
      "cell_type": "markdown",
      "id": "eleven-burke",
      "metadata": {
        "id": "eleven-burke"
      },
      "source": [
        "## Семинар 6"
      ]
    },
    {
      "cell_type": "markdown",
      "id": "convenient-crash",
      "metadata": {
        "id": "convenient-crash"
      },
      "source": [
        "1. Известно, что генеральная совокупность распределена нормально, со средним квадратическим отклонением равным 16. Найти доверительный интервал для оценки математического ожидания с надежностью $0.95$, если выборочная средняя $M=80$, а объем выборки $n=256$."
      ]
    },
    {
      "cell_type": "markdown",
      "id": "hired-labor",
      "metadata": {
        "id": "hired-labor"
      },
      "source": [
        "Поскольку нам известно среднее квадратическое отклонение генеральной совокупности $\\sigma=16$, то для расчета $95\\%$-го доверительного интервала, будем использовать $Z$-критерий. И границы доверительного интервала расчитаем по формуле:  \n",
        "$\\displaystyle\\bar X\\pm z_{\\alpha/2}\\cdot\\frac{\\sigma}{\\sqrt n}$, где:  \n",
        "$\\bar X=M=80$-среднее значение выборки    \n",
        "$z_{\\alpha/2}$ табличное значение $Z$-критерия, и для $95\\%$-го доверительного интервала $z_{\\alpha/2}=1,96$  \n",
        "$\\sigma=16$-среднее квадратическое отклонение генеральной совокупности  \n",
        "$n=256$-объем выборки  \n",
        "Таким образом $95\\%$-й доверительный интервал расчитаем как: $\\left[80-1.96\\cdot\\frac{16}{\\sqrt 256};80+1.96\\cdot\\frac{16}{\\sqrt 256}\\right]$"
      ]
    },
    {
      "cell_type": "code",
      "execution_count": 1,
      "id": "superb-functionality",
      "metadata": {
        "colab": {
          "base_uri": "https://localhost:8080/"
        },
        "id": "superb-functionality",
        "outputId": "96e6c63b-95bd-4108-9e10-19d92db2297d"
      },
      "outputs": [
        {
          "output_type": "stream",
          "name": "stdout",
          "text": [
            "95%-й доверительный интервал для оценки мат. ожидания генеральной совокупности: [78.04;81.96].\n"
          ]
        }
      ],
      "source": [
        "left=80-1.96*16/256**(1/2)\n",
        "right=80+1.96*16/256**(1/2)\n",
        "print(f'95%-й доверительный интервал для оценки мат. ожидания генеральной совокупности: [{left};{right}].')"
      ]
    },
    {
      "cell_type": "markdown",
      "id": "heated-bosnia",
      "metadata": {
        "id": "heated-bosnia"
      },
      "source": [
        "---  \n",
        "#### Ответ:  \n",
        "$\\left[78.04;81.96\\right]$  \n",
        "\n",
        "---"
      ]
    },
    {
      "cell_type": "markdown",
      "id": "normal-familiar",
      "metadata": {
        "id": "normal-familiar"
      },
      "source": [
        "2. В результате 10 независимых измерений некоторой величины X, выполненных с одинаковой точностью, получены опытные данные: 6.9, 6.1, 6.2, 6.8, 7.5, 6.3, 6.4, 6.9, 6.7, 6.1 Предполагая, что результаты измерений подчинены нормальному закону распределения вероятностей, оценить истинное значение величины X при помощи доверительного интервала, покрывающего это значение с доверительной вероятностью 0,95."
      ]
    },
    {
      "cell_type": "markdown",
      "id": "damaged-insurance",
      "metadata": {
        "id": "damaged-insurance"
      },
      "source": [
        "Поскольку из условия задачи нам ничего не известно ни о мат. ожидании генеральной совокупности ни о среднем квадратическом отклонении для генеральной совокупности, то для расчета $95\\%$-го доверительного интервала будем использовать $t$-критерий,  и формулу:  \n",
        "$\\displaystyle\\bar X\\pm t_{\\alpha/2}\\cdot\\frac{\\sigma_{несмещ}}{\\sqrt{n}}$, где  \n",
        "$\\sigma_{несмещ}$-несмещённое среднее квадратическое отклонение выборки,  \n",
        "$n$-размер выборки  \n",
        "Воспользуемся встроенными функциями библиотеки numpy:"
      ]
    },
    {
      "cell_type": "code",
      "execution_count": 2,
      "id": "muslim-commission",
      "metadata": {
        "id": "muslim-commission"
      },
      "outputs": [],
      "source": [
        "import numpy as np"
      ]
    },
    {
      "cell_type": "code",
      "execution_count": 3,
      "id": "julian-eleven",
      "metadata": {
        "colab": {
          "base_uri": "https://localhost:8080/"
        },
        "id": "julian-eleven",
        "outputId": "732b5087-5f76-44e0-b78f-07ac57822b65"
      },
      "outputs": [
        {
          "output_type": "stream",
          "name": "stdout",
          "text": [
            "Среднее выборочное:  6.59,\n",
            "Размер выборки n=10,\n",
            "Среднее квадратическое отклонение по выборке(несмещенное):  0.45.\n"
          ]
        }
      ],
      "source": [
        "arr=np.array([6.9, 6.1, 6.2, 6.8, 7.5, 6.3, 6.4, 6.9, 6.7, 6.1])\n",
        "print(f'Среднее выборочное: {np.mean(arr): .2f},\\n'\n",
        "      f'Размер выборки n={len(arr)},\\n'\n",
        "      f'Среднее квадратическое отклонение по выборке(несмещенное): {np.std(arr, ddof=1): .2f}.'\n",
        "     )"
      ]
    },
    {
      "cell_type": "markdown",
      "id": "genetic-handy",
      "metadata": {
        "id": "genetic-handy"
      },
      "source": [
        "Для вычисления $t$-критерия воспользуемся библиотекой scipy"
      ]
    },
    {
      "cell_type": "code",
      "execution_count": 4,
      "id": "humanitarian-custom",
      "metadata": {
        "id": "humanitarian-custom"
      },
      "outputs": [],
      "source": [
        "import scipy.stats as stats"
      ]
    },
    {
      "cell_type": "code",
      "execution_count": 5,
      "id": "classified-reporter",
      "metadata": {
        "scrolled": true,
        "colab": {
          "base_uri": "https://localhost:8080/"
        },
        "id": "classified-reporter",
        "outputId": "30b21406-9c92-4ad5-fcdd-3feddc88876c"
      },
      "outputs": [
        {
          "output_type": "stream",
          "name": "stdout",
          "text": [
            "Табличное значение t-критерия для 95%-го доверительного интервала данной выборки:  2.262\n"
          ]
        }
      ],
      "source": [
        "def t_from_table(confidens, len_array):\n",
        "    alpha=(1-confidens)\n",
        "    return stats.t.ppf(1-alpha/2, len_array-1)\n",
        "print(f'Табличное значение t-критерия для 95%-го доверительного интервала данной выборки: {t_from_table(0.95, len(arr)): .3f}')"
      ]
    },
    {
      "cell_type": "markdown",
      "id": "varying-terry",
      "metadata": {
        "id": "varying-terry"
      },
      "source": [
        "Итоговая функция для расчета доверительного интервала:"
      ]
    },
    {
      "cell_type": "code",
      "execution_count": 6,
      "id": "treated-humidity",
      "metadata": {
        "colab": {
          "base_uri": "https://localhost:8080/"
        },
        "id": "treated-humidity",
        "outputId": "3a976748-9f09-4bc1-e6d3-2359a518183a"
      },
      "outputs": [
        {
          "output_type": "stream",
          "name": "stdout",
          "text": [
            "95%-й доверительный интервал для истинного значения Х: (6.268, 6.912).\n"
          ]
        }
      ],
      "source": [
        "def confidens_int(arr, confidens):\n",
        "    return round(np.mean(arr)-t_from_table(confidens,len(arr))*np.std(arr, ddof=1)/len(arr)**0.5,3), \\\n",
        "           round(np.mean(arr)+t_from_table(confidens,len(arr))*np.std(arr, ddof=1)/len(arr)**0.5,3)\n",
        "\n",
        "print(f'95%-й доверительный интервал для истинного значения Х: {confidens_int(arr, 0.95)}.')"
      ]
    },
    {
      "cell_type": "markdown",
      "id": "current-moore",
      "metadata": {
        "id": "current-moore"
      },
      "source": [
        "---  \n",
        "#### Ответ:  \n",
        "$\\left[6.268;6.912\\right]$  \n",
        "\n",
        "---"
      ]
    },
    {
      "cell_type": "markdown",
      "source": [
        "3. Рост дочерей 175, 167, 154, 174, 178, 148, 160, 167, 169, 170  \n",
        "Рост матерей  178, 165, 165, 173, 168, 155, 160, 164, 178, 175  \n",
        "Используя эти данные построить 95% доверительный интервал для разности среднего роста родителей и детей.  "
      ],
      "metadata": {
        "id": "jLgoC42TmqOd"
      },
      "id": "jLgoC42TmqOd"
    },
    {
      "cell_type": "code",
      "source": [
        "a = np.array([175, 167, 154, 174, 178, 148, 160, 167, 169, 170])\n",
        "b = np.array([178, 165, 165, 173, 168, 155, 160, 164, 178, 175])"
      ],
      "metadata": {
        "id": "zBJMDBCnm5sg"
      },
      "id": "zBJMDBCnm5sg",
      "execution_count": 7,
      "outputs": []
    },
    {
      "cell_type": "code",
      "source": [
        "x_1 = np.mean(a)\n",
        "x_2 = np.mean(b)\n",
        "delta = x_1 - x_2"
      ],
      "metadata": {
        "id": "M4_PjABsnONC"
      },
      "id": "M4_PjABsnONC",
      "execution_count": 8,
      "outputs": []
    },
    {
      "cell_type": "code",
      "source": [
        "n = len(a)\n",
        "D1 = np.var(a, ddof = 1)\n",
        "D2 = np.var(b, ddof = 1)\n",
        "\n",
        "D = (D1 + D2) / 2\n",
        "SE = np.sqrt(D/n + D/n)\n",
        "\n",
        "t = stats.t.ppf(0.975, 2 * (n - 1))\n",
        "\n",
        "result = (delta - t*SE, delta + t*SE)"
      ],
      "metadata": {
        "id": "SNzEAljKnQED"
      },
      "id": "SNzEAljKnQED",
      "execution_count": 9,
      "outputs": []
    },
    {
      "cell_type": "code",
      "source": [
        "print(f'95%-й доверительный интервал: {result}')"
      ],
      "metadata": {
        "colab": {
          "base_uri": "https://localhost:8080/"
        },
        "id": "9ec9kxuWnUil",
        "outputId": "274699f1-637d-484c-c821-3616cf1144a3"
      },
      "id": "9ec9kxuWnUil",
      "execution_count": 11,
      "outputs": [
        {
          "output_type": "stream",
          "name": "stdout",
          "text": [
            "95%-й доверительный интервал: (-10.068418034506857, 6.268418034506846)\n"
          ]
        }
      ]
    },
    {
      "cell_type": "markdown",
      "source": [
        "Ответ:\n",
        "\n",
        "$\\left[-10.068418034506857; 6.268418034506846\\right]$  "
      ],
      "metadata": {
        "id": "RvKRrNVlnZzH"
      },
      "id": "RvKRrNVlnZzH"
    }
  ],
  "metadata": {
    "kernelspec": {
      "display_name": "Python 3",
      "language": "python",
      "name": "python3"
    },
    "language_info": {
      "codemirror_mode": {
        "name": "ipython",
        "version": 3
      },
      "file_extension": ".py",
      "mimetype": "text/x-python",
      "name": "python",
      "nbconvert_exporter": "python",
      "pygments_lexer": "ipython3",
      "version": "3.8.5"
    },
    "colab": {
      "provenance": []
    }
  },
  "nbformat": 4,
  "nbformat_minor": 5
}
